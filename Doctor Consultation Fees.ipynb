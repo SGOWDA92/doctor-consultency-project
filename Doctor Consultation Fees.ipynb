{
 "cells": [
  {
   "cell_type": "markdown",
   "metadata": {},
   "source": [
    "# DOCTOR CONSULTATION FEES PROJECT"
   ]
  },
  {
   "cell_type": "markdown",
   "metadata": {},
   "source": [
    "Submitted by:Sucharitha A M\n",
    "             1829 batch"
   ]
  },
  {
   "cell_type": "code",
   "execution_count": 1,
   "metadata": {},
   "outputs": [],
   "source": [
    "import numpy as np\n",
    "import pandas as pd\n",
    "import seaborn as sns\n",
    "import matplotlib.pyplot as plt\n",
    "from scipy.stats import zscore\n",
    "from sklearn.linear_model import LogisticRegression\n",
    "from sklearn.naive_bayes import GaussianNB\n",
    "from sklearn.svm import SVC\n",
    "from sklearn.tree import DecisionTreeClassifier,export_graphviz\n",
    "from sklearn.ensemble import RandomForestClassifier\n",
    "from sklearn.preprocessing import LabelEncoder\n",
    "from sklearn.ensemble import AdaBoostClassifier\n",
    "from sklearn.metrics import accuracy_score,confusion_matrix,classification_report,precision_recall_curve,roc_curve\n",
    "from sklearn.preprocessing import MinMaxScaler\n",
    "from sklearn.model_selection import train_test_split\n",
    "from sklearn.preprocessing import PowerTransformer\n",
    "from sklearn.model_selection import cross_val_score\n",
    "import joblib\n",
    "import warnings\n",
    "warnings.filterwarnings('ignore')"
   ]
  },
  {
   "cell_type": "markdown",
   "metadata": {},
   "source": [
    "# Examining The Data"
   ]
  },
  {
   "cell_type": "code",
   "execution_count": 2,
   "metadata": {},
   "outputs": [
    {
     "data": {
      "text/html": [
       "<div>\n",
       "<style scoped>\n",
       "    .dataframe tbody tr th:only-of-type {\n",
       "        vertical-align: middle;\n",
       "    }\n",
       "\n",
       "    .dataframe tbody tr th {\n",
       "        vertical-align: top;\n",
       "    }\n",
       "\n",
       "    .dataframe thead th {\n",
       "        text-align: right;\n",
       "    }\n",
       "</style>\n",
       "<table border=\"1\" class=\"dataframe\">\n",
       "  <thead>\n",
       "    <tr style=\"text-align: right;\">\n",
       "      <th></th>\n",
       "      <th>Qualification</th>\n",
       "      <th>Experience</th>\n",
       "      <th>Rating</th>\n",
       "      <th>Place</th>\n",
       "      <th>Profile</th>\n",
       "      <th>Miscellaneous_Info</th>\n",
       "    </tr>\n",
       "  </thead>\n",
       "  <tbody>\n",
       "    <tr>\n",
       "      <th>0</th>\n",
       "      <td>MBBS</td>\n",
       "      <td>35 years experience</td>\n",
       "      <td>NaN</td>\n",
       "      <td>Ghatkopar East, Mumbai</td>\n",
       "      <td>General Medicine</td>\n",
       "      <td>NaN</td>\n",
       "    </tr>\n",
       "    <tr>\n",
       "      <th>1</th>\n",
       "      <td>MBBS, Diploma in Otorhinolaryngology (DLO)</td>\n",
       "      <td>31 years experience</td>\n",
       "      <td>NaN</td>\n",
       "      <td>West Marredpally, Hyderabad</td>\n",
       "      <td>ENT Specialist</td>\n",
       "      <td>NaN</td>\n",
       "    </tr>\n",
       "    <tr>\n",
       "      <th>2</th>\n",
       "      <td>MBBS, DDVL</td>\n",
       "      <td>40 years experience</td>\n",
       "      <td>70%</td>\n",
       "      <td>KK Nagar, Chennai</td>\n",
       "      <td>Dermatologists</td>\n",
       "      <td>70% 4 Feedback KK Nagar, Chennai</td>\n",
       "    </tr>\n",
       "    <tr>\n",
       "      <th>3</th>\n",
       "      <td>BAMS</td>\n",
       "      <td>0 years experience</td>\n",
       "      <td>NaN</td>\n",
       "      <td>New Ashok Nagar, Delhi</td>\n",
       "      <td>Ayurveda</td>\n",
       "      <td>NaN</td>\n",
       "    </tr>\n",
       "    <tr>\n",
       "      <th>4</th>\n",
       "      <td>BDS, MDS - Conservative Dentistry &amp; Endodontics</td>\n",
       "      <td>16 years experience</td>\n",
       "      <td>100%</td>\n",
       "      <td>Kanakpura Road, Bangalore</td>\n",
       "      <td>Dentist</td>\n",
       "      <td>General Dentistry Conservative Dentistry Cosme...</td>\n",
       "    </tr>\n",
       "  </tbody>\n",
       "</table>\n",
       "</div>"
      ],
      "text/plain": [
       "                                     Qualification           Experience  \\\n",
       "0                                             MBBS  35 years experience   \n",
       "1       MBBS, Diploma in Otorhinolaryngology (DLO)  31 years experience   \n",
       "2                                       MBBS, DDVL  40 years experience   \n",
       "3                                             BAMS   0 years experience   \n",
       "4  BDS, MDS - Conservative Dentistry & Endodontics  16 years experience   \n",
       "\n",
       "  Rating                        Place           Profile  \\\n",
       "0    NaN       Ghatkopar East, Mumbai  General Medicine   \n",
       "1    NaN  West Marredpally, Hyderabad    ENT Specialist   \n",
       "2    70%            KK Nagar, Chennai    Dermatologists   \n",
       "3    NaN       New Ashok Nagar, Delhi          Ayurveda   \n",
       "4   100%    Kanakpura Road, Bangalore           Dentist   \n",
       "\n",
       "                                  Miscellaneous_Info  \n",
       "0                                                NaN  \n",
       "1                                                NaN  \n",
       "2                   70% 4 Feedback KK Nagar, Chennai  \n",
       "3                                                NaN  \n",
       "4  General Dentistry Conservative Dentistry Cosme...  "
      ]
     },
     "execution_count": 2,
     "metadata": {},
     "output_type": "execute_result"
    }
   ],
   "source": [
    "df = pd.read_excel('Final_Test.xlsx')\n",
    "df.head()"
   ]
  },
  {
   "cell_type": "code",
   "execution_count": 3,
   "metadata": {},
   "outputs": [
    {
     "name": "stdout",
     "output_type": "stream",
     "text": [
      "<class 'pandas.core.frame.DataFrame'>\n",
      "RangeIndex: 1987 entries, 0 to 1986\n",
      "Data columns (total 6 columns):\n",
      " #   Column              Non-Null Count  Dtype \n",
      "---  ------              --------------  ----- \n",
      " 0   Qualification       1987 non-null   object\n",
      " 1   Experience          1987 non-null   object\n",
      " 2   Rating              897 non-null    object\n",
      " 3   Place               1981 non-null   object\n",
      " 4   Profile             1987 non-null   object\n",
      " 5   Miscellaneous_Info  1153 non-null   object\n",
      "dtypes: object(6)\n",
      "memory usage: 93.3+ KB\n"
     ]
    }
   ],
   "source": [
    "df.info()"
   ]
  },
  {
   "cell_type": "markdown",
   "metadata": {},
   "source": [
    "This method print the information about the DataFrame including the index type and column type,non-null values and memory usage."
   ]
  },
  {
   "cell_type": "code",
   "execution_count": 4,
   "metadata": {},
   "outputs": [
    {
     "data": {
      "text/plain": [
       "(1987, 6)"
      ]
     },
     "execution_count": 4,
     "metadata": {},
     "output_type": "execute_result"
    }
   ],
   "source": [
    "df.shape"
   ]
  },
  {
   "cell_type": "markdown",
   "metadata": {},
   "source": [
    "Dataset contains 1987 rows and 6 columns"
   ]
  },
  {
   "cell_type": "code",
   "execution_count": 5,
   "metadata": {},
   "outputs": [
    {
     "data": {
      "text/plain": [
       "Qualification         object\n",
       "Experience            object\n",
       "Rating                object\n",
       "Place                 object\n",
       "Profile               object\n",
       "Miscellaneous_Info    object\n",
       "dtype: object"
      ]
     },
     "execution_count": 5,
     "metadata": {},
     "output_type": "execute_result"
    }
   ],
   "source": [
    "df.dtypes"
   ]
  },
  {
   "cell_type": "code",
   "execution_count": 6,
   "metadata": {},
   "outputs": [
    {
     "data": {
      "text/plain": [
       "array([nan, '70% 4 Feedback KK Nagar, Chennai',\n",
       "       'General Dentistry Conservative Dentistry Cosmetic/ Aesthetic Dentistry',\n",
       "       ..., '98% 240 Feedback Velachery, Chennai',\n",
       "       'RCT - Root Canal Treatment Root Canal Treatment - Rotary Pyorrhoea Treatment',\n",
       "       '1 Feedback Pallikaranai, Chennai ₹500'], dtype=object)"
      ]
     },
     "execution_count": 6,
     "metadata": {},
     "output_type": "execute_result"
    }
   ],
   "source": [
    "df.Miscellaneous_Info.unique()"
   ]
  },
  {
   "cell_type": "markdown",
   "metadata": {},
   "source": [
    "Target/dependent variables is discrete and categorial in nature\n"
   ]
  },
  {
   "cell_type": "code",
   "execution_count": 7,
   "metadata": {},
   "outputs": [
    {
     "data": {
      "text/html": [
       "<div>\n",
       "<style scoped>\n",
       "    .dataframe tbody tr th:only-of-type {\n",
       "        vertical-align: middle;\n",
       "    }\n",
       "\n",
       "    .dataframe tbody tr th {\n",
       "        vertical-align: top;\n",
       "    }\n",
       "\n",
       "    .dataframe thead th {\n",
       "        text-align: right;\n",
       "    }\n",
       "</style>\n",
       "<table border=\"1\" class=\"dataframe\">\n",
       "  <thead>\n",
       "    <tr style=\"text-align: right;\">\n",
       "      <th></th>\n",
       "      <th>Qualification</th>\n",
       "      <th>Experience</th>\n",
       "      <th>Rating</th>\n",
       "      <th>Place</th>\n",
       "      <th>Profile</th>\n",
       "      <th>Miscellaneous_Info</th>\n",
       "    </tr>\n",
       "  </thead>\n",
       "  <tbody>\n",
       "  </tbody>\n",
       "</table>\n",
       "</div>"
      ],
      "text/plain": [
       "Empty DataFrame\n",
       "Columns: [Qualification, Experience, Rating, Place, Profile, Miscellaneous_Info]\n",
       "Index: []"
      ]
     },
     "execution_count": 7,
     "metadata": {},
     "output_type": "execute_result"
    }
   ],
   "source": [
    "df.loc[df['Miscellaneous_Info']==\" \"]"
   ]
  },
  {
   "cell_type": "code",
   "execution_count": 8,
   "metadata": {},
   "outputs": [
    {
     "data": {
      "text/plain": [
       "Qualification            0\n",
       "Experience               0\n",
       "Rating                1090\n",
       "Place                    6\n",
       "Profile                  0\n",
       "Miscellaneous_Info     834\n",
       "dtype: int64"
      ]
     },
     "execution_count": 8,
     "metadata": {},
     "output_type": "execute_result"
    }
   ],
   "source": [
    "df.isnull().sum()"
   ]
  },
  {
   "cell_type": "markdown",
   "metadata": {},
   "source": [
    "Here Rating and Miscellaneous_Info will be have sum and remaining will be zero"
   ]
  },
  {
   "cell_type": "code",
   "execution_count": 9,
   "metadata": {},
   "outputs": [
    {
     "data": {
      "text/plain": [
       "Qualification         object\n",
       "Experience            object\n",
       "Rating                object\n",
       "Place                 object\n",
       "Profile               object\n",
       "Miscellaneous_Info    object\n",
       "dtype: object"
      ]
     },
     "execution_count": 9,
     "metadata": {},
     "output_type": "execute_result"
    }
   ],
   "source": [
    "df.dtypes"
   ]
  },
  {
   "cell_type": "markdown",
   "metadata": {},
   "source": [
    "# Making DataFrame for The  Nominal Data"
   ]
  },
  {
   "cell_type": "code",
   "execution_count": 10,
   "metadata": {},
   "outputs": [],
   "source": [
    "df_visualization_nominal=df[[\"Rating\",\"Place\",\"Profile\",\"Qualification\",\"Experience\"]].copy()"
   ]
  },
  {
   "cell_type": "code",
   "execution_count": 11,
   "metadata": {},
   "outputs": [
    {
     "data": {
      "text/plain": [
       "Index(['Rating', 'Place', 'Profile', 'Qualification', 'Experience'], dtype='object')"
      ]
     },
     "execution_count": 11,
     "metadata": {},
     "output_type": "execute_result"
    }
   ],
   "source": [
    "df_visualization_nominal.columns"
   ]
  },
  {
   "cell_type": "markdown",
   "metadata": {},
   "source": [
    "Dataset contains visualization of nominal 5 columns"
   ]
  },
  {
   "cell_type": "markdown",
   "metadata": {},
   "source": [
    "# Visualization of The Data"
   ]
  },
  {
   "cell_type": "code",
   "execution_count": 12,
   "metadata": {},
   "outputs": [
    {
     "name": "stdout",
     "output_type": "stream",
     "text": [
      "BAMS                                                                            153\n",
      "BHMS                                                                            150\n",
      "BDS                                                                             144\n",
      "MBBS                                                                            107\n",
      "MBBS, MD - Dermatology                                                           64\n",
      "                                                                               ... \n",
      "BHMS, MD (HOM) - Paeditrics, Fellowship Course in Homoeopathic Dermatology        1\n",
      "MBBS, Diploma in Otorhinolaryngology (DLO), MS - ENT, FRCS - General Surgery      1\n",
      "MBBS, FICA, MD - General Medicine                                                 1\n",
      "BDS, MDS- Oral Pathology                                                          1\n",
      "BDS, Diploma in Health Administration                                             1\n",
      "Name: Qualification, Length: 630, dtype: int64\n"
     ]
    },
    {
     "data": {
      "image/png": "[encoded data removed]",
      "text/plain": [
       "<Figure size 432x288 with 1 Axes>"
      ]
     },
     "metadata": {
      "needs_background": "light"
     },
     "output_type": "display_data"
    }
   ],
   "source": [
    "ax = sns.countplot(x=\"Qualification\",data=df_visualization_nominal)\n",
    "print(df_visualization_nominal[\"Qualification\"].value_counts())"
   ]
  },
  {
   "cell_type": "markdown",
   "metadata": {},
   "source": [
    "Here countplot contains the data visualization of nominal columns of qualification"
   ]
  },
  {
   "cell_type": "code",
   "execution_count": 13,
   "metadata": {},
   "outputs": [
    {
     "name": "stdout",
     "output_type": "stream",
     "text": [
      "10 years experience    110\n",
      "8 years experience      98\n",
      "9 years experience      96\n",
      "19 years experience     92\n",
      "7 years experience      89\n",
      "11 years experience     86\n",
      "13 years experience     83\n",
      "14 years experience     81\n",
      "12 years experience     79\n",
      "17 years experience     72\n",
      "18 years experience     70\n",
      "6 years experience      62\n",
      "15 years experience     57\n",
      "16 years experience     51\n",
      "5 years experience      50\n",
      "23 years experience     49\n",
      "20 years experience     48\n",
      "21 years experience     48\n",
      "29 years experience     46\n",
      "4 years experience      44\n",
      "22 years experience     37\n",
      "24 years experience     34\n",
      "3 years experience      33\n",
      "25 years experience     33\n",
      "26 years experience     32\n",
      "0 years experience      31\n",
      "28 years experience     29\n",
      "27 years experience     27\n",
      "34 years experience     27\n",
      "36 years experience     27\n",
      "31 years experience     26\n",
      "38 years experience     23\n",
      "30 years experience     18\n",
      "44 years experience     16\n",
      "32 years experience     16\n",
      "40 years experience     15\n",
      "37 years experience     14\n",
      "35 years experience     13\n",
      "39 years experience     13\n",
      "41 years experience     12\n",
      "46 years experience     11\n",
      "2 years experience      11\n",
      "33 years experience     11\n",
      "43 years experience     10\n",
      "42 years experience     10\n",
      "47 years experience      9\n",
      "49 years experience      8\n",
      "45 years experience      7\n",
      "48 years experience      6\n",
      "59 years experience      4\n",
      "50 years experience      3\n",
      "51 years experience      3\n",
      "54 years experience      2\n",
      "52 years experience      2\n",
      "53 years experience      1\n",
      "65 years experience      1\n",
      "56 years experience      1\n",
      "Name: Experience, dtype: int64\n"
     ]
    },
    {
     "data": {
      "image/png": "[encoded data removed]",
      "text/plain": [
       "<Figure size 432x288 with 1 Axes>"
      ]
     },
     "metadata": {
      "needs_background": "light"
     },
     "output_type": "display_data"
    }
   ],
   "source": [
    "ax = sns.countplot(x=\"Experience\",data=df_visualization_nominal)\n",
    "print(df_visualization_nominal[\"Experience\"].value_counts())"
   ]
  },
  {
   "cell_type": "markdown",
   "metadata": {},
   "source": [
    "Here countplot contains the data visualization of nominal columns of experience"
   ]
  },
  {
   "cell_type": "code",
   "execution_count": 14,
   "metadata": {},
   "outputs": [
    {
     "name": "stdout",
     "output_type": "stream",
     "text": [
      "100%    223\n",
      "98%     112\n",
      "97%      84\n",
      "99%      68\n",
      "96%      65\n",
      "94%      51\n",
      "95%      47\n",
      "93%      34\n",
      "92%      29\n",
      "90%      29\n",
      "91%      26\n",
      "88%      13\n",
      "83%      11\n",
      "89%      11\n",
      "87%      11\n",
      "82%       9\n",
      "85%       8\n",
      "71%       7\n",
      "84%       7\n",
      "80%       7\n",
      "86%       6\n",
      "73%       5\n",
      "67%       5\n",
      "70%       4\n",
      "60%       4\n",
      "76%       4\n",
      "81%       3\n",
      "55%       3\n",
      "79%       2\n",
      "69%       2\n",
      "64%       2\n",
      "78%       1\n",
      "65%       1\n",
      "77%       1\n",
      "53%       1\n",
      "52%       1\n",
      "Name: Rating, dtype: int64\n"
     ]
    },
    {
     "data": {
      "image/png": "[encoded data removed]",
      "text/plain": [
       "<Figure size 432x288 with 1 Axes>"
      ]
     },
     "metadata": {
      "needs_background": "light"
     },
     "output_type": "display_data"
    }
   ],
   "source": [
    "ax = sns.countplot(x=\"Rating\",data=df_visualization_nominal)\n",
    "print(df_visualization_nominal[\"Rating\"].value_counts())"
   ]
  },
  {
   "cell_type": "markdown",
   "metadata": {},
   "source": [
    "Here countplot contains the data visualization of nominal columns of Ratings"
   ]
  },
  {
   "cell_type": "code",
   "execution_count": 15,
   "metadata": {},
   "outputs": [
    {
     "name": "stdout",
     "output_type": "stream",
     "text": [
      "Mulund West, Mumbai            27\n",
      "Andheri West, Mumbai           27\n",
      "Dwarka, Delhi                  26\n",
      "Whitefield, Bangalore          23\n",
      "HSR Layout, Bangalore          22\n",
      "                               ..\n",
      "Vidyaranyapura, Bangalore       1\n",
      "Mulanthuruthy, Ernakulam        1\n",
      "Mehrauli, Delhi                 1\n",
      "Kadubeesanahalli, Bangalore     1\n",
      "Chintalmet, Hyderabad           1\n",
      "Name: Place, Length: 592, dtype: int64\n"
     ]
    },
    {
     "data": {
      "image/png": "[encoded data removed]",
      "text/plain": [
       "<Figure size 432x288 with 1 Axes>"
      ]
     },
     "metadata": {
      "needs_background": "light"
     },
     "output_type": "display_data"
    }
   ],
   "source": [
    "ax = sns.countplot(x=\"Place\",data=df_visualization_nominal)\n",
    "print(df_visualization_nominal[\"Place\"].value_counts())"
   ]
  },
  {
   "cell_type": "markdown",
   "metadata": {},
   "source": [
    "Here countplot contains the data visualization of nominal columns of place"
   ]
  },
  {
   "cell_type": "code",
   "execution_count": 16,
   "metadata": {},
   "outputs": [
    {
     "name": "stdout",
     "output_type": "stream",
     "text": [
      "General Medicine    444\n",
      "Dentist             441\n",
      "Dermatologists      339\n",
      "Homeopath           277\n",
      "Ayurveda            251\n",
      "ENT Specialist      235\n",
      "Name: Profile, dtype: int64\n"
     ]
    },
    {
     "data": {
      "image/png": "[encoded data removed]",
      "text/plain": [
       "<Figure size 432x288 with 1 Axes>"
      ]
     },
     "metadata": {
      "needs_background": "light"
     },
     "output_type": "display_data"
    }
   ],
   "source": [
    "ax = sns.countplot(x=\"Profile\",data=df_visualization_nominal)\n",
    "print(df_visualization_nominal[\"Profile\"].value_counts())"
   ]
  },
  {
   "cell_type": "markdown",
   "metadata": {},
   "source": [
    "Here countplot contains the data visualization of nominal columns of profile"
   ]
  },
  {
   "cell_type": "markdown",
   "metadata": {},
   "source": [
    "# Making DataFrame of The Ordinal Data"
   ]
  },
  {
   "cell_type": "code",
   "execution_count": 17,
   "metadata": {},
   "outputs": [],
   "source": [
    "df_visualization_ordinal=df[[\"Qualification\",\"Profile\"]].copy()"
   ]
  },
  {
   "cell_type": "code",
   "execution_count": 18,
   "metadata": {},
   "outputs": [
    {
     "data": {
      "text/plain": [
       "<seaborn.axisgrid.FacetGrid at 0x1dba9a22940>"
      ]
     },
     "execution_count": 18,
     "metadata": {},
     "output_type": "execute_result"
    },
    {
     "data": {
      "image/png": "[encoded data removed]",
      "text/plain": [
       "<Figure size 360x360 with 1 Axes>"
      ]
     },
     "metadata": {
      "needs_background": "light"
     },
     "output_type": "display_data"
    }
   ],
   "source": [
    "sns.catplot(x=\"Rating\",y=\"Profile\",data=df)"
   ]
  },
  {
   "cell_type": "markdown",
   "metadata": {},
   "source": [
    "Here catplot contains the data visualization of ordinal data of qualification and profile,here x=rating and y=profile"
   ]
  },
  {
   "cell_type": "code",
   "execution_count": 19,
   "metadata": {},
   "outputs": [],
   "source": [
    "df_visualization_ordinal=df[[\"Experience\",\"Profile\"]].copy()"
   ]
  },
  {
   "cell_type": "code",
   "execution_count": 20,
   "metadata": {},
   "outputs": [
    {
     "data": {
      "text/plain": [
       "<seaborn.axisgrid.FacetGrid at 0x1dba99d4610>"
      ]
     },
     "execution_count": 20,
     "metadata": {},
     "output_type": "execute_result"
    },
    {
     "data": {
      "image/png": "[encoded data removed]",
      "text/plain": [
       "<Figure size 360x360 with 1 Axes>"
      ]
     },
     "metadata": {
      "needs_background": "light"
     },
     "output_type": "display_data"
    }
   ],
   "source": [
    "sns.catplot(x=\"Place\",y=\"Profile\",data=df)"
   ]
  },
  {
   "cell_type": "markdown",
   "metadata": {},
   "source": [
    "Here catplot contains the data visualization of ordinal data of experience and profile,here x=place and y=profile"
   ]
  },
  {
   "cell_type": "markdown",
   "metadata": {},
   "source": [
    "# checking the distribution of the continuous value of the object type columns"
   ]
  },
  {
   "cell_type": "code",
   "execution_count": 21,
   "metadata": {},
   "outputs": [],
   "source": [
    "df_visualization_continuous=df[[\"Experience\",\"Profile\"]].copy()"
   ]
  },
  {
   "cell_type": "code",
   "execution_count": 22,
   "metadata": {},
   "outputs": [
    {
     "data": {
      "text/plain": [
       "<seaborn.axisgrid.FacetGrid at 0x1dba918e9d0>"
      ]
     },
     "execution_count": 22,
     "metadata": {},
     "output_type": "execute_result"
    },
    {
     "data": {
      "image/png": "[encoded data removed]",
      "text/plain": [
       "<Figure size 360x360 with 1 Axes>"
      ]
     },
     "metadata": {
      "needs_background": "light"
     },
     "output_type": "display_data"
    }
   ],
   "source": [
    "sns.displot(df_visualization_continuous['Profile'], kde=True)"
   ]
  },
  {
   "cell_type": "markdown",
   "metadata": {},
   "source": [
    "Data is not normally distributed in this columns,because of viscous problem."
   ]
  },
  {
   "cell_type": "code",
   "execution_count": 23,
   "metadata": {},
   "outputs": [
    {
     "data": {
      "text/plain": [
       "<seaborn.axisgrid.FacetGrid at 0x1dba372da00>"
      ]
     },
     "execution_count": 23,
     "metadata": {},
     "output_type": "execute_result"
    },
    {
     "data": {
      "image/png": "[encoded data removed]",
      "text/plain": [
       "<Figure size 360x360 with 1 Axes>"
      ]
     },
     "metadata": {
      "needs_background": "light"
     },
     "output_type": "display_data"
    }
   ],
   "source": [
    "sns.displot(df_visualization_continuous['Experience'], kde=True)"
   ]
  },
  {
   "cell_type": "markdown",
   "metadata": {},
   "source": [
    "Data is not normally distributed in this columns,because of viscous problem."
   ]
  },
  {
   "cell_type": "markdown",
   "metadata": {},
   "source": [
    "# Encoding of DataFrame"
   ]
  },
  {
   "cell_type": "code",
   "execution_count": 24,
   "metadata": {},
   "outputs": [],
   "source": [
    "from sklearn.preprocessing import LabelEncoder\n",
    "LE=LabelEncoder()\n",
    "df['Qualification']=LE.fit_transform(df['Qualification'])\n"
   ]
  },
  {
   "cell_type": "code",
   "execution_count": 25,
   "metadata": {},
   "outputs": [
    {
     "data": {
      "text/plain": [
       "array([241, 340, 258,   6,  79,  78,  99, 542, 128,  51, 359, 247, 383,\n",
       "       610, 349, 144, 519, 100, 115, 417, 616, 341, 483, 121, 183,  27,\n",
       "       275, 155, 136, 285, 507, 235,  73, 409, 505, 581, 510,  44, 162,\n",
       "       486, 363, 451, 126, 237, 480, 450, 198, 266, 345,  87, 303, 629,\n",
       "       184,  93, 442, 428, 577, 255,   3, 494, 479,  97, 163, 553,  70,\n",
       "       575, 384, 103, 280, 590, 140, 465, 602, 338, 288, 105, 552, 585,\n",
       "       392, 319, 355,  92,  67,  90, 321,  50, 549, 293, 492, 214, 188,\n",
       "       457, 329, 170,  46, 600,  23, 205, 594, 524, 281, 458, 210, 122,\n",
       "       460, 551, 447,  60,  68, 330, 468, 588, 138, 264,  24, 272, 348,\n",
       "       408, 548, 584, 405, 488, 296, 292, 337, 297, 228, 193, 173, 134,\n",
       "       604, 108, 208, 475, 446, 347,  69, 232, 378, 316, 334,  77, 365,\n",
       "       182, 146, 586, 490, 106, 568,  30,  45,  71, 352,  34, 227, 589,\n",
       "       351, 178, 560, 304, 236, 432, 540, 564, 192, 543, 249, 124, 320,\n",
       "        86, 448, 167, 147, 454, 131, 150, 240, 427, 513, 109,   0, 212,\n",
       "       233, 116, 377,  56, 294, 592, 353,  36, 463, 298, 361, 104, 357,\n",
       "       234, 443, 420, 277, 614, 336, 143, 343, 270, 416, 517, 226, 335,\n",
       "       557, 204, 411, 324, 181,  32,  41, 625,  25, 154, 587, 332, 245,\n",
       "       186, 137,  13, 152, 449, 224, 290,  98, 139,  20, 461, 371, 599,\n",
       "       566, 291, 484, 125,  85, 601, 561, 407,  22, 314, 322, 153, 375,\n",
       "       201, 117, 481, 528, 562, 482, 251,  52, 346, 101, 544, 169, 435,\n",
       "       102,  61, 441, 596, 397, 559,  88, 433, 525, 218, 555,   8, 311,\n",
       "       395, 431, 459, 157, 220, 521, 325, 452, 179, 354, 164, 418, 114,\n",
       "       421,   9, 295, 187, 223,  35, 445, 269, 503, 400, 526, 200, 605,\n",
       "       595,   7, 243,   4,  53, 368, 522, 195, 467, 133, 165, 252,   2,\n",
       "       429, 412, 414,  48, 130, 529, 419, 369, 127, 611, 500, 622, 533,\n",
       "       207, 323, 583, 123, 256, 287, 491, 556,  65, 279, 612, 515, 257,\n",
       "       628, 246, 413, 177, 410, 456,  43, 578, 496, 302, 356, 253, 328,\n",
       "       617, 609, 261, 422, 283, 366,  38, 504, 403, 389, 344, 107, 225,\n",
       "       175, 248, 506,  82, 536,   5, 118, 145, 274, 370, 333,  47,  54,\n",
       "        64,  76, 215, 593, 168, 464, 440, 541, 315,  57, 265,  49, 219,\n",
       "       113, 545, 260, 166, 310, 621, 180, 326, 216, 374, 485, 527,  26,\n",
       "       308,  42, 309, 160, 307, 401, 387, 495, 176, 402, 476,  84, 406,\n",
       "       404,  16, 190,  59, 554, 472, 263, 362,  89, 339, 563,  72, 462,\n",
       "       439,  75, 470,  15, 119, 229,  81, 159,  19, 598, 423, 508, 221,\n",
       "       380, 129, 379,  94, 151, 576,  18, 518, 537, 120, 381, 194, 142,\n",
       "       360,  62, 434, 282, 367, 158, 299, 203, 211, 239, 327, 453, 502,\n",
       "       546, 250, 489, 222, 161, 135,  12, 276, 424, 390, 574, 313, 350,\n",
       "       382, 437, 550, 620,   1, 469, 520, 271, 284, 267, 538, 305, 331,\n",
       "       259, 514, 571, 209, 415, 547, 565,  83, 342,  28, 398, 580, 300,\n",
       "       436, 438,  33,  29, 289,  95, 498, 242, 112, 317, 148, 396, 268,\n",
       "        40, 512, 627, 230, 244, 582, 615, 149, 624, 286, 516, 567, 206,\n",
       "       111, 511, 191,  80, 385,  39, 312, 132, 569, 254, 306, 202, 623,\n",
       "       426, 189,  31, 534, 172, 430, 238, 606, 391, 579, 530, 487, 425,\n",
       "       399, 156,  37, 231, 444, 196, 364, 509, 532, 373, 376,  58, 217,\n",
       "       477, 197, 493, 386, 501, 393, 318, 531, 608, 619, 372,  63, 607,\n",
       "       273,  66, 199, 141,  55, 499, 471, 171,  91, 591,  11, 473, 535,\n",
       "       572, 358, 626, 278, 558, 603, 466, 573, 613,  74,  10, 455,  14,\n",
       "       618,  21, 301, 262, 174, 185, 213, 394,  96, 539, 523, 110, 478,\n",
       "       570, 597, 497, 388,  17, 474])"
      ]
     },
     "execution_count": 25,
     "metadata": {},
     "output_type": "execute_result"
    }
   ],
   "source": [
    "df.Qualification.unique()"
   ]
  },
  {
   "cell_type": "code",
   "execution_count": 26,
   "metadata": {},
   "outputs": [
    {
     "data": {
      "text/html": [
       "<div>\n",
       "<style scoped>\n",
       "    .dataframe tbody tr th:only-of-type {\n",
       "        vertical-align: middle;\n",
       "    }\n",
       "\n",
       "    .dataframe tbody tr th {\n",
       "        vertical-align: top;\n",
       "    }\n",
       "\n",
       "    .dataframe thead th {\n",
       "        text-align: right;\n",
       "    }\n",
       "</style>\n",
       "<table border=\"1\" class=\"dataframe\">\n",
       "  <thead>\n",
       "    <tr style=\"text-align: right;\">\n",
       "      <th></th>\n",
       "      <th>Qualification</th>\n",
       "      <th>Experience</th>\n",
       "      <th>Rating</th>\n",
       "      <th>Place</th>\n",
       "      <th>Profile</th>\n",
       "      <th>Miscellaneous_Info</th>\n",
       "    </tr>\n",
       "  </thead>\n",
       "  <tbody>\n",
       "    <tr>\n",
       "      <th>0</th>\n",
       "      <td>241</td>\n",
       "      <td>35 years experience</td>\n",
       "      <td>NaN</td>\n",
       "      <td>Ghatkopar East, Mumbai</td>\n",
       "      <td>General Medicine</td>\n",
       "      <td>NaN</td>\n",
       "    </tr>\n",
       "    <tr>\n",
       "      <th>1</th>\n",
       "      <td>340</td>\n",
       "      <td>31 years experience</td>\n",
       "      <td>NaN</td>\n",
       "      <td>West Marredpally, Hyderabad</td>\n",
       "      <td>ENT Specialist</td>\n",
       "      <td>NaN</td>\n",
       "    </tr>\n",
       "    <tr>\n",
       "      <th>2</th>\n",
       "      <td>258</td>\n",
       "      <td>40 years experience</td>\n",
       "      <td>70%</td>\n",
       "      <td>KK Nagar, Chennai</td>\n",
       "      <td>Dermatologists</td>\n",
       "      <td>70% 4 Feedback KK Nagar, Chennai</td>\n",
       "    </tr>\n",
       "    <tr>\n",
       "      <th>3</th>\n",
       "      <td>6</td>\n",
       "      <td>0 years experience</td>\n",
       "      <td>NaN</td>\n",
       "      <td>New Ashok Nagar, Delhi</td>\n",
       "      <td>Ayurveda</td>\n",
       "      <td>NaN</td>\n",
       "    </tr>\n",
       "    <tr>\n",
       "      <th>4</th>\n",
       "      <td>79</td>\n",
       "      <td>16 years experience</td>\n",
       "      <td>100%</td>\n",
       "      <td>Kanakpura Road, Bangalore</td>\n",
       "      <td>Dentist</td>\n",
       "      <td>General Dentistry Conservative Dentistry Cosme...</td>\n",
       "    </tr>\n",
       "  </tbody>\n",
       "</table>\n",
       "</div>"
      ],
      "text/plain": [
       "   Qualification           Experience Rating                        Place  \\\n",
       "0            241  35 years experience    NaN       Ghatkopar East, Mumbai   \n",
       "1            340  31 years experience    NaN  West Marredpally, Hyderabad   \n",
       "2            258  40 years experience    70%            KK Nagar, Chennai   \n",
       "3              6   0 years experience    NaN       New Ashok Nagar, Delhi   \n",
       "4             79  16 years experience   100%    Kanakpura Road, Bangalore   \n",
       "\n",
       "            Profile                                 Miscellaneous_Info  \n",
       "0  General Medicine                                                NaN  \n",
       "1    ENT Specialist                                                NaN  \n",
       "2    Dermatologists                   70% 4 Feedback KK Nagar, Chennai  \n",
       "3          Ayurveda                                                NaN  \n",
       "4           Dentist  General Dentistry Conservative Dentistry Cosme...  "
      ]
     },
     "execution_count": 26,
     "metadata": {},
     "output_type": "execute_result"
    }
   ],
   "source": [
    "df.head()"
   ]
  },
  {
   "cell_type": "code",
   "execution_count": 27,
   "metadata": {},
   "outputs": [],
   "source": [
    "from sklearn.preprocessing import LabelEncoder\n",
    "LE=LabelEncoder()\n",
    "df['Experience']=LE.fit_transform(df['Experience'])\n"
   ]
  },
  {
   "cell_type": "code",
   "execution_count": 28,
   "metadata": {},
   "outputs": [
    {
     "data": {
      "text/plain": [
       "array([28, 24, 34,  0,  7,  5, 15, 56,  2, 38, 33, 27,  4, 20, 52, 25, 22,\n",
       "       55, 37, 19, 14, 17, 29,  8, 12,  9, 21, 44, 10,  1, 11, 23, 16, 18,\n",
       "       35, 40, 13,  3, 39, 26, 31, 54, 51,  6, 32, 36, 49, 43, 42, 47, 46,\n",
       "       45, 30, 41, 48, 50, 53])"
      ]
     },
     "execution_count": 28,
     "metadata": {},
     "output_type": "execute_result"
    }
   ],
   "source": [
    "df.Experience.unique()"
   ]
  },
  {
   "cell_type": "code",
   "execution_count": 29,
   "metadata": {},
   "outputs": [
    {
     "data": {
      "text/html": [
       "<div>\n",
       "<style scoped>\n",
       "    .dataframe tbody tr th:only-of-type {\n",
       "        vertical-align: middle;\n",
       "    }\n",
       "\n",
       "    .dataframe tbody tr th {\n",
       "        vertical-align: top;\n",
       "    }\n",
       "\n",
       "    .dataframe thead th {\n",
       "        text-align: right;\n",
       "    }\n",
       "</style>\n",
       "<table border=\"1\" class=\"dataframe\">\n",
       "  <thead>\n",
       "    <tr style=\"text-align: right;\">\n",
       "      <th></th>\n",
       "      <th>Qualification</th>\n",
       "      <th>Experience</th>\n",
       "      <th>Rating</th>\n",
       "      <th>Place</th>\n",
       "      <th>Profile</th>\n",
       "      <th>Miscellaneous_Info</th>\n",
       "    </tr>\n",
       "  </thead>\n",
       "  <tbody>\n",
       "    <tr>\n",
       "      <th>0</th>\n",
       "      <td>241</td>\n",
       "      <td>28</td>\n",
       "      <td>NaN</td>\n",
       "      <td>Ghatkopar East, Mumbai</td>\n",
       "      <td>General Medicine</td>\n",
       "      <td>NaN</td>\n",
       "    </tr>\n",
       "    <tr>\n",
       "      <th>1</th>\n",
       "      <td>340</td>\n",
       "      <td>24</td>\n",
       "      <td>NaN</td>\n",
       "      <td>West Marredpally, Hyderabad</td>\n",
       "      <td>ENT Specialist</td>\n",
       "      <td>NaN</td>\n",
       "    </tr>\n",
       "    <tr>\n",
       "      <th>2</th>\n",
       "      <td>258</td>\n",
       "      <td>34</td>\n",
       "      <td>70%</td>\n",
       "      <td>KK Nagar, Chennai</td>\n",
       "      <td>Dermatologists</td>\n",
       "      <td>70% 4 Feedback KK Nagar, Chennai</td>\n",
       "    </tr>\n",
       "    <tr>\n",
       "      <th>3</th>\n",
       "      <td>6</td>\n",
       "      <td>0</td>\n",
       "      <td>NaN</td>\n",
       "      <td>New Ashok Nagar, Delhi</td>\n",
       "      <td>Ayurveda</td>\n",
       "      <td>NaN</td>\n",
       "    </tr>\n",
       "    <tr>\n",
       "      <th>4</th>\n",
       "      <td>79</td>\n",
       "      <td>7</td>\n",
       "      <td>100%</td>\n",
       "      <td>Kanakpura Road, Bangalore</td>\n",
       "      <td>Dentist</td>\n",
       "      <td>General Dentistry Conservative Dentistry Cosme...</td>\n",
       "    </tr>\n",
       "  </tbody>\n",
       "</table>\n",
       "</div>"
      ],
      "text/plain": [
       "   Qualification  Experience Rating                        Place  \\\n",
       "0            241          28    NaN       Ghatkopar East, Mumbai   \n",
       "1            340          24    NaN  West Marredpally, Hyderabad   \n",
       "2            258          34    70%            KK Nagar, Chennai   \n",
       "3              6           0    NaN       New Ashok Nagar, Delhi   \n",
       "4             79           7   100%    Kanakpura Road, Bangalore   \n",
       "\n",
       "            Profile                                 Miscellaneous_Info  \n",
       "0  General Medicine                                                NaN  \n",
       "1    ENT Specialist                                                NaN  \n",
       "2    Dermatologists                   70% 4 Feedback KK Nagar, Chennai  \n",
       "3          Ayurveda                                                NaN  \n",
       "4           Dentist  General Dentistry Conservative Dentistry Cosme...  "
      ]
     },
     "execution_count": 29,
     "metadata": {},
     "output_type": "execute_result"
    }
   ],
   "source": [
    "df.head()"
   ]
  },
  {
   "cell_type": "code",
   "execution_count": 30,
   "metadata": {},
   "outputs": [],
   "source": [
    "from sklearn.preprocessing import LabelEncoder\n",
    "LE=LabelEncoder()\n",
    "df['Rating']=df['Rating'].replace({'NaN':0,'70%':1,'100%':1})\n"
   ]
  },
  {
   "cell_type": "code",
   "execution_count": 31,
   "metadata": {},
   "outputs": [
    {
     "data": {
      "text/plain": [
       "array([nan, 1, '90%', '94%', '99%', '98%', '87%', '64%', '96%', '95%',\n",
       "       '97%', '93%', '69%', '71%', '83%', '92%', '80%', '86%', '88%',\n",
       "       '67%', '85%', '84%', '55%', '89%', '82%', '81%', '60%', '73%',\n",
       "       '65%', '77%', '91%', '78%', '79%', '76%', '52%', '53%'],\n",
       "      dtype=object)"
      ]
     },
     "execution_count": 31,
     "metadata": {},
     "output_type": "execute_result"
    }
   ],
   "source": [
    "df.Rating.unique()"
   ]
  },
  {
   "cell_type": "code",
   "execution_count": 32,
   "metadata": {},
   "outputs": [
    {
     "data": {
      "text/html": [
       "<div>\n",
       "<style scoped>\n",
       "    .dataframe tbody tr th:only-of-type {\n",
       "        vertical-align: middle;\n",
       "    }\n",
       "\n",
       "    .dataframe tbody tr th {\n",
       "        vertical-align: top;\n",
       "    }\n",
       "\n",
       "    .dataframe thead th {\n",
       "        text-align: right;\n",
       "    }\n",
       "</style>\n",
       "<table border=\"1\" class=\"dataframe\">\n",
       "  <thead>\n",
       "    <tr style=\"text-align: right;\">\n",
       "      <th></th>\n",
       "      <th>Qualification</th>\n",
       "      <th>Experience</th>\n",
       "      <th>Rating</th>\n",
       "      <th>Place</th>\n",
       "      <th>Profile</th>\n",
       "      <th>Miscellaneous_Info</th>\n",
       "    </tr>\n",
       "  </thead>\n",
       "  <tbody>\n",
       "    <tr>\n",
       "      <th>0</th>\n",
       "      <td>241</td>\n",
       "      <td>28</td>\n",
       "      <td>NaN</td>\n",
       "      <td>Ghatkopar East, Mumbai</td>\n",
       "      <td>General Medicine</td>\n",
       "      <td>NaN</td>\n",
       "    </tr>\n",
       "    <tr>\n",
       "      <th>1</th>\n",
       "      <td>340</td>\n",
       "      <td>24</td>\n",
       "      <td>NaN</td>\n",
       "      <td>West Marredpally, Hyderabad</td>\n",
       "      <td>ENT Specialist</td>\n",
       "      <td>NaN</td>\n",
       "    </tr>\n",
       "    <tr>\n",
       "      <th>2</th>\n",
       "      <td>258</td>\n",
       "      <td>34</td>\n",
       "      <td>1</td>\n",
       "      <td>KK Nagar, Chennai</td>\n",
       "      <td>Dermatologists</td>\n",
       "      <td>70% 4 Feedback KK Nagar, Chennai</td>\n",
       "    </tr>\n",
       "    <tr>\n",
       "      <th>3</th>\n",
       "      <td>6</td>\n",
       "      <td>0</td>\n",
       "      <td>NaN</td>\n",
       "      <td>New Ashok Nagar, Delhi</td>\n",
       "      <td>Ayurveda</td>\n",
       "      <td>NaN</td>\n",
       "    </tr>\n",
       "    <tr>\n",
       "      <th>4</th>\n",
       "      <td>79</td>\n",
       "      <td>7</td>\n",
       "      <td>1</td>\n",
       "      <td>Kanakpura Road, Bangalore</td>\n",
       "      <td>Dentist</td>\n",
       "      <td>General Dentistry Conservative Dentistry Cosme...</td>\n",
       "    </tr>\n",
       "  </tbody>\n",
       "</table>\n",
       "</div>"
      ],
      "text/plain": [
       "   Qualification  Experience Rating                        Place  \\\n",
       "0            241          28    NaN       Ghatkopar East, Mumbai   \n",
       "1            340          24    NaN  West Marredpally, Hyderabad   \n",
       "2            258          34      1            KK Nagar, Chennai   \n",
       "3              6           0    NaN       New Ashok Nagar, Delhi   \n",
       "4             79           7      1    Kanakpura Road, Bangalore   \n",
       "\n",
       "            Profile                                 Miscellaneous_Info  \n",
       "0  General Medicine                                                NaN  \n",
       "1    ENT Specialist                                                NaN  \n",
       "2    Dermatologists                   70% 4 Feedback KK Nagar, Chennai  \n",
       "3          Ayurveda                                                NaN  \n",
       "4           Dentist  General Dentistry Conservative Dentistry Cosme...  "
      ]
     },
     "execution_count": 32,
     "metadata": {},
     "output_type": "execute_result"
    }
   ],
   "source": [
    "df.head()"
   ]
  },
  {
   "cell_type": "markdown",
   "metadata": {},
   "source": [
    "# Importing The Dataset"
   ]
  },
  {
   "cell_type": "code",
   "execution_count": 33,
   "metadata": {},
   "outputs": [
    {
     "data": {
      "text/html": [
       "<div>\n",
       "<style scoped>\n",
       "    .dataframe tbody tr th:only-of-type {\n",
       "        vertical-align: middle;\n",
       "    }\n",
       "\n",
       "    .dataframe tbody tr th {\n",
       "        vertical-align: top;\n",
       "    }\n",
       "\n",
       "    .dataframe thead th {\n",
       "        text-align: right;\n",
       "    }\n",
       "</style>\n",
       "<table border=\"1\" class=\"dataframe\">\n",
       "  <thead>\n",
       "    <tr style=\"text-align: right;\">\n",
       "      <th></th>\n",
       "      <th>Qualification</th>\n",
       "      <th>Experience</th>\n",
       "      <th>Rating</th>\n",
       "      <th>Place</th>\n",
       "      <th>Profile</th>\n",
       "      <th>Miscellaneous_Info</th>\n",
       "      <th>Fees</th>\n",
       "    </tr>\n",
       "  </thead>\n",
       "  <tbody>\n",
       "    <tr>\n",
       "      <th>0</th>\n",
       "      <td>BHMS, MD - Homeopathy</td>\n",
       "      <td>24 years experience</td>\n",
       "      <td>100%</td>\n",
       "      <td>Kakkanad, Ernakulam</td>\n",
       "      <td>Homeopath</td>\n",
       "      <td>100% 16 Feedback Kakkanad, Ernakulam</td>\n",
       "      <td>100</td>\n",
       "    </tr>\n",
       "    <tr>\n",
       "      <th>1</th>\n",
       "      <td>BAMS, MD - Ayurveda Medicine</td>\n",
       "      <td>12 years experience</td>\n",
       "      <td>98%</td>\n",
       "      <td>Whitefield, Bangalore</td>\n",
       "      <td>Ayurveda</td>\n",
       "      <td>98% 76 Feedback Whitefield, Bangalore</td>\n",
       "      <td>350</td>\n",
       "    </tr>\n",
       "    <tr>\n",
       "      <th>2</th>\n",
       "      <td>MBBS, MS - Otorhinolaryngology</td>\n",
       "      <td>9 years experience</td>\n",
       "      <td>NaN</td>\n",
       "      <td>Mathikere - BEL, Bangalore</td>\n",
       "      <td>ENT Specialist</td>\n",
       "      <td>NaN</td>\n",
       "      <td>300</td>\n",
       "    </tr>\n",
       "    <tr>\n",
       "      <th>3</th>\n",
       "      <td>BSc - Zoology, BAMS</td>\n",
       "      <td>12 years experience</td>\n",
       "      <td>NaN</td>\n",
       "      <td>Bannerghatta Road, Bangalore</td>\n",
       "      <td>Ayurveda</td>\n",
       "      <td>Bannerghatta Road, Bangalore ₹250 Available on...</td>\n",
       "      <td>250</td>\n",
       "    </tr>\n",
       "    <tr>\n",
       "      <th>4</th>\n",
       "      <td>BAMS</td>\n",
       "      <td>20 years experience</td>\n",
       "      <td>100%</td>\n",
       "      <td>Keelkattalai, Chennai</td>\n",
       "      <td>Ayurveda</td>\n",
       "      <td>100% 4 Feedback Keelkattalai, Chennai</td>\n",
       "      <td>250</td>\n",
       "    </tr>\n",
       "  </tbody>\n",
       "</table>\n",
       "</div>"
      ],
      "text/plain": [
       "                    Qualification           Experience Rating  \\\n",
       "0           BHMS, MD - Homeopathy  24 years experience   100%   \n",
       "1    BAMS, MD - Ayurveda Medicine  12 years experience    98%   \n",
       "2  MBBS, MS - Otorhinolaryngology   9 years experience    NaN   \n",
       "3             BSc - Zoology, BAMS  12 years experience    NaN   \n",
       "4                            BAMS  20 years experience   100%   \n",
       "\n",
       "                          Place         Profile  \\\n",
       "0           Kakkanad, Ernakulam       Homeopath   \n",
       "1         Whitefield, Bangalore        Ayurveda   \n",
       "2    Mathikere - BEL, Bangalore  ENT Specialist   \n",
       "3  Bannerghatta Road, Bangalore        Ayurveda   \n",
       "4         Keelkattalai, Chennai        Ayurveda   \n",
       "\n",
       "                                  Miscellaneous_Info  Fees  \n",
       "0               100% 16 Feedback Kakkanad, Ernakulam   100  \n",
       "1              98% 76 Feedback Whitefield, Bangalore   350  \n",
       "2                                                NaN   300  \n",
       "3  Bannerghatta Road, Bangalore ₹250 Available on...   250  \n",
       "4              100% 4 Feedback Keelkattalai, Chennai   250  "
      ]
     },
     "execution_count": 33,
     "metadata": {},
     "output_type": "execute_result"
    }
   ],
   "source": [
    "df = pd.read_excel('Final_Train.xlsx')\n",
    "df.head()"
   ]
  },
  {
   "cell_type": "code",
   "execution_count": 34,
   "metadata": {},
   "outputs": [
    {
     "data": {
      "text/plain": [
       "Qualification            0\n",
       "Experience               0\n",
       "Rating                3302\n",
       "Place                   25\n",
       "Profile                  0\n",
       "Miscellaneous_Info    2620\n",
       "Fees                     0\n",
       "dtype: int64"
      ]
     },
     "execution_count": 34,
     "metadata": {},
     "output_type": "execute_result"
    }
   ],
   "source": [
    "df.isnull().sum()"
   ]
  },
  {
   "cell_type": "markdown",
   "metadata": {},
   "source": [
    "Here Rating,place and miscellaneous_Info contains sum values and remaining values will be zero"
   ]
  },
  {
   "cell_type": "code",
   "execution_count": 35,
   "metadata": {},
   "outputs": [
    {
     "data": {
      "text/html": [
       "<div>\n",
       "<style scoped>\n",
       "    .dataframe tbody tr th:only-of-type {\n",
       "        vertical-align: middle;\n",
       "    }\n",
       "\n",
       "    .dataframe tbody tr th {\n",
       "        vertical-align: top;\n",
       "    }\n",
       "\n",
       "    .dataframe thead th {\n",
       "        text-align: right;\n",
       "    }\n",
       "</style>\n",
       "<table border=\"1\" class=\"dataframe\">\n",
       "  <thead>\n",
       "    <tr style=\"text-align: right;\">\n",
       "      <th></th>\n",
       "      <th>Fees</th>\n",
       "    </tr>\n",
       "  </thead>\n",
       "  <tbody>\n",
       "    <tr>\n",
       "      <th>count</th>\n",
       "      <td>5961.000000</td>\n",
       "    </tr>\n",
       "    <tr>\n",
       "      <th>mean</th>\n",
       "      <td>307.944640</td>\n",
       "    </tr>\n",
       "    <tr>\n",
       "      <th>std</th>\n",
       "      <td>190.920373</td>\n",
       "    </tr>\n",
       "    <tr>\n",
       "      <th>min</th>\n",
       "      <td>5.000000</td>\n",
       "    </tr>\n",
       "    <tr>\n",
       "      <th>25%</th>\n",
       "      <td>150.000000</td>\n",
       "    </tr>\n",
       "    <tr>\n",
       "      <th>50%</th>\n",
       "      <td>300.000000</td>\n",
       "    </tr>\n",
       "    <tr>\n",
       "      <th>75%</th>\n",
       "      <td>500.000000</td>\n",
       "    </tr>\n",
       "    <tr>\n",
       "      <th>max</th>\n",
       "      <td>950.000000</td>\n",
       "    </tr>\n",
       "  </tbody>\n",
       "</table>\n",
       "</div>"
      ],
      "text/plain": [
       "              Fees\n",
       "count  5961.000000\n",
       "mean    307.944640\n",
       "std     190.920373\n",
       "min       5.000000\n",
       "25%     150.000000\n",
       "50%     300.000000\n",
       "75%     500.000000\n",
       "max     950.000000"
      ]
     },
     "execution_count": 35,
     "metadata": {},
     "output_type": "execute_result"
    }
   ],
   "source": [
    "df.describe()"
   ]
  },
  {
   "cell_type": "code",
   "execution_count": 36,
   "metadata": {},
   "outputs": [
    {
     "data": {
      "text/plain": [
       "<AxesSubplot:>"
      ]
     },
     "execution_count": 36,
     "metadata": {},
     "output_type": "execute_result"
    },
    {
     "data": {
      "image/png": "[encoded data removed]",
      "text/plain": [
       "<Figure size 1584x504 with 2 Axes>"
      ]
     },
     "metadata": {
      "needs_background": "light"
     },
     "output_type": "display_data"
    }
   ],
   "source": [
    "plt.figure(figsize=(22,7))\n",
    "sns.heatmap(df.describe(),annot=True,linewidths=0.1,linecolor='black',fmt=\"0.2f\")"
   ]
  },
  {
   "cell_type": "markdown",
   "metadata": {},
   "source": [
    "Here heatmap containes the only one of describe value of dataset.\n",
    "\n",
    "Light shades are higly describe"
   ]
  },
  {
   "cell_type": "markdown",
   "metadata": {},
   "source": [
    "# Correlation of the columns with the target columns"
   ]
  },
  {
   "cell_type": "code",
   "execution_count": 37,
   "metadata": {},
   "outputs": [
    {
     "data": {
      "text/html": [
       "<div>\n",
       "<style scoped>\n",
       "    .dataframe tbody tr th:only-of-type {\n",
       "        vertical-align: middle;\n",
       "    }\n",
       "\n",
       "    .dataframe tbody tr th {\n",
       "        vertical-align: top;\n",
       "    }\n",
       "\n",
       "    .dataframe thead th {\n",
       "        text-align: right;\n",
       "    }\n",
       "</style>\n",
       "<table border=\"1\" class=\"dataframe\">\n",
       "  <thead>\n",
       "    <tr style=\"text-align: right;\">\n",
       "      <th></th>\n",
       "      <th>Fees</th>\n",
       "    </tr>\n",
       "  </thead>\n",
       "  <tbody>\n",
       "    <tr>\n",
       "      <th>Fees</th>\n",
       "      <td>1.0</td>\n",
       "    </tr>\n",
       "  </tbody>\n",
       "</table>\n",
       "</div>"
      ],
      "text/plain": [
       "      Fees\n",
       "Fees   1.0"
      ]
     },
     "execution_count": 37,
     "metadata": {},
     "output_type": "execute_result"
    }
   ],
   "source": [
    "df.corr()"
   ]
  },
  {
   "cell_type": "code",
   "execution_count": 38,
   "metadata": {},
   "outputs": [
    {
     "data": {
      "text/plain": [
       "<AxesSubplot:>"
      ]
     },
     "execution_count": 38,
     "metadata": {},
     "output_type": "execute_result"
    },
    {
     "data": {
      "image/png": "[encoded data removed]",
      "text/plain": [
       "<Figure size 1584x504 with 2 Axes>"
      ]
     },
     "metadata": {
      "needs_background": "light"
     },
     "output_type": "display_data"
    }
   ],
   "source": [
    "plt.figure(figsize=(22,7))\n",
    "sns.heatmap(df.corr(),annot=True,linewidths=0.1,linecolor='black',fmt=\"0.2f\")"
   ]
  },
  {
   "cell_type": "markdown",
   "metadata": {},
   "source": [
    "Here heatmap containes the only one corresponding values of dataset.\n",
    "\n",
    "Here Fees are higly corrolated"
   ]
  },
  {
   "cell_type": "code",
   "execution_count": 39,
   "metadata": {},
   "outputs": [
    {
     "data": {
      "text/plain": [
       "Fees    0.75187\n",
       "dtype: float64"
      ]
     },
     "execution_count": 39,
     "metadata": {},
     "output_type": "execute_result"
    }
   ],
   "source": [
    "df.skew()"
   ]
  },
  {
   "cell_type": "markdown",
   "metadata": {},
   "source": [
    "Here Dataset contains only one skew value"
   ]
  },
  {
   "cell_type": "markdown",
   "metadata": {},
   "source": [
    "# Outlier Check"
   ]
  },
  {
   "cell_type": "code",
   "execution_count": 40,
   "metadata": {},
   "outputs": [
    {
     "data": {
      "text/plain": [
       "Qualification         object\n",
       "Experience            object\n",
       "Rating                object\n",
       "Place                 object\n",
       "Profile               object\n",
       "Miscellaneous_Info    object\n",
       "Fees                   int64\n",
       "dtype: object"
      ]
     },
     "execution_count": 40,
     "metadata": {},
     "output_type": "execute_result"
    }
   ],
   "source": [
    "df.dtypes"
   ]
  },
  {
   "cell_type": "code",
   "execution_count": 41,
   "metadata": {},
   "outputs": [
    {
     "data": {
      "text/plain": [
       "<AxesSubplot:>"
      ]
     },
     "execution_count": 41,
     "metadata": {},
     "output_type": "execute_result"
    },
    {
     "data": {
      "image/png": "[encoded data removed]",
      "text/plain": [
       "<Figure size 432x288 with 1 Axes>"
      ]
     },
     "metadata": {
      "needs_background": "light"
     },
     "output_type": "display_data"
    }
   ],
   "source": [
    "df['Fees'].plot.box()"
   ]
  },
  {
   "cell_type": "markdown",
   "metadata": {},
   "source": [
    "Here all boxplots have no outside the viscous so we cant find here outliers easily."
   ]
  },
  {
   "cell_type": "code",
   "execution_count": 42,
   "metadata": {},
   "outputs": [
    {
     "data": {
      "text/plain": [
       "(5961, 7)"
      ]
     },
     "execution_count": 42,
     "metadata": {},
     "output_type": "execute_result"
    }
   ],
   "source": [
    "df.shape"
   ]
  },
  {
   "cell_type": "markdown",
   "metadata": {},
   "source": [
    "Here Dataset contains 5961 rows and 7 columns"
   ]
  },
  {
   "cell_type": "code",
   "execution_count": 43,
   "metadata": {
    "scrolled": true
   },
   "outputs": [
    {
     "data": {
      "text/plain": [
       "<seaborn.axisgrid.PairGrid at 0x1dbab0b7160>"
      ]
     },
     "execution_count": 43,
     "metadata": {},
     "output_type": "execute_result"
    },
    {
     "data": {
      "image/png": "[encoded data removed]",
      "text/plain": [
       "<Figure size 180x180 with 2 Axes>"
      ]
     },
     "metadata": {
      "needs_background": "light"
     },
     "output_type": "display_data"
    }
   ],
   "source": [
    "sns.pairplot(df)"
   ]
  },
  {
   "cell_type": "markdown",
   "metadata": {},
   "source": [
    "Remove the missing values.\n",
    "\n",
    "drop  the nagativitycorrelated columns.\n",
    "\n",
    "remove the outliers."
   ]
  },
  {
   "cell_type": "markdown",
   "metadata": {},
   "source": [
    "# Considering The Outlier Removal"
   ]
  },
  {
   "cell_type": "code",
   "execution_count": 44,
   "metadata": {},
   "outputs": [
    {
     "data": {
      "text/html": [
       "<div>\n",
       "<style scoped>\n",
       "    .dataframe tbody tr th:only-of-type {\n",
       "        vertical-align: middle;\n",
       "    }\n",
       "\n",
       "    .dataframe tbody tr th {\n",
       "        vertical-align: top;\n",
       "    }\n",
       "\n",
       "    .dataframe thead th {\n",
       "        text-align: right;\n",
       "    }\n",
       "</style>\n",
       "<table border=\"1\" class=\"dataframe\">\n",
       "  <thead>\n",
       "    <tr style=\"text-align: right;\">\n",
       "      <th></th>\n",
       "      <th>Qualification</th>\n",
       "      <th>Experience</th>\n",
       "      <th>Rating</th>\n",
       "      <th>Place</th>\n",
       "      <th>Profile</th>\n",
       "      <th>Miscellaneous_Info</th>\n",
       "    </tr>\n",
       "  </thead>\n",
       "  <tbody>\n",
       "    <tr>\n",
       "      <th>0</th>\n",
       "      <td>BHMS, MD - Homeopathy</td>\n",
       "      <td>24 years experience</td>\n",
       "      <td>100%</td>\n",
       "      <td>Kakkanad, Ernakulam</td>\n",
       "      <td>Homeopath</td>\n",
       "      <td>100% 16 Feedback Kakkanad, Ernakulam</td>\n",
       "    </tr>\n",
       "    <tr>\n",
       "      <th>1</th>\n",
       "      <td>BAMS, MD - Ayurveda Medicine</td>\n",
       "      <td>12 years experience</td>\n",
       "      <td>98%</td>\n",
       "      <td>Whitefield, Bangalore</td>\n",
       "      <td>Ayurveda</td>\n",
       "      <td>98% 76 Feedback Whitefield, Bangalore</td>\n",
       "    </tr>\n",
       "    <tr>\n",
       "      <th>2</th>\n",
       "      <td>MBBS, MS - Otorhinolaryngology</td>\n",
       "      <td>9 years experience</td>\n",
       "      <td>NaN</td>\n",
       "      <td>Mathikere - BEL, Bangalore</td>\n",
       "      <td>ENT Specialist</td>\n",
       "      <td>NaN</td>\n",
       "    </tr>\n",
       "    <tr>\n",
       "      <th>3</th>\n",
       "      <td>BSc - Zoology, BAMS</td>\n",
       "      <td>12 years experience</td>\n",
       "      <td>NaN</td>\n",
       "      <td>Bannerghatta Road, Bangalore</td>\n",
       "      <td>Ayurveda</td>\n",
       "      <td>Bannerghatta Road, Bangalore ₹250 Available on...</td>\n",
       "    </tr>\n",
       "    <tr>\n",
       "      <th>4</th>\n",
       "      <td>BAMS</td>\n",
       "      <td>20 years experience</td>\n",
       "      <td>100%</td>\n",
       "      <td>Keelkattalai, Chennai</td>\n",
       "      <td>Ayurveda</td>\n",
       "      <td>100% 4 Feedback Keelkattalai, Chennai</td>\n",
       "    </tr>\n",
       "  </tbody>\n",
       "</table>\n",
       "</div>"
      ],
      "text/plain": [
       "                    Qualification           Experience Rating  \\\n",
       "0           BHMS, MD - Homeopathy  24 years experience   100%   \n",
       "1    BAMS, MD - Ayurveda Medicine  12 years experience    98%   \n",
       "2  MBBS, MS - Otorhinolaryngology   9 years experience    NaN   \n",
       "3             BSc - Zoology, BAMS  12 years experience    NaN   \n",
       "4                            BAMS  20 years experience   100%   \n",
       "\n",
       "                          Place         Profile  \\\n",
       "0           Kakkanad, Ernakulam       Homeopath   \n",
       "1         Whitefield, Bangalore        Ayurveda   \n",
       "2    Mathikere - BEL, Bangalore  ENT Specialist   \n",
       "3  Bannerghatta Road, Bangalore        Ayurveda   \n",
       "4         Keelkattalai, Chennai        Ayurveda   \n",
       "\n",
       "                                  Miscellaneous_Info  \n",
       "0               100% 16 Feedback Kakkanad, Ernakulam  \n",
       "1              98% 76 Feedback Whitefield, Bangalore  \n",
       "2                                                NaN  \n",
       "3  Bannerghatta Road, Bangalore ₹250 Available on...  \n",
       "4              100% 4 Feedback Keelkattalai, Chennai  "
      ]
     },
     "execution_count": 44,
     "metadata": {},
     "output_type": "execute_result"
    }
   ],
   "source": [
    "df.drop('Fees',axis=1,inplace=True)\n",
    "df.head()"
   ]
  },
  {
   "cell_type": "code",
   "execution_count": 45,
   "metadata": {},
   "outputs": [
    {
     "data": {
      "text/plain": [
       "(5961, 6)"
      ]
     },
     "execution_count": 45,
     "metadata": {},
     "output_type": "execute_result"
    }
   ],
   "source": [
    "df.shape"
   ]
  },
  {
   "cell_type": "markdown",
   "metadata": {},
   "source": [
    "Here Dataset contains 5961 rows and 6 columns"
   ]
  },
  {
   "cell_type": "code",
   "execution_count": 46,
   "metadata": {},
   "outputs": [
    {
     "data": {
      "text/plain": [
       "Index(['Qualification', 'Experience', 'Rating', 'Place', 'Profile',\n",
       "       'Miscellaneous_Info'],\n",
       "      dtype='object')"
      ]
     },
     "execution_count": 46,
     "metadata": {},
     "output_type": "execute_result"
    }
   ],
   "source": [
    "df.columns"
   ]
  },
  {
   "cell_type": "markdown",
   "metadata": {},
   "source": [
    "Here Dataset contains 6 columns"
   ]
  },
  {
   "cell_type": "markdown",
   "metadata": {},
   "source": [
    "# Encoding Method"
   ]
  },
  {
   "cell_type": "code",
   "execution_count": 47,
   "metadata": {},
   "outputs": [],
   "source": [
    "from sklearn.preprocessing import LabelEncoder\n",
    "LE=LabelEncoder()\n",
    "df['Qualification']=LE.fit_transform(df['Qualification'])\n"
   ]
  },
  {
   "cell_type": "code",
   "execution_count": 48,
   "metadata": {},
   "outputs": [
    {
     "data": {
      "text/plain": [
       "array([ 401,   73, 1135, ..., 1229,  349, 1273])"
      ]
     },
     "execution_count": 48,
     "metadata": {},
     "output_type": "execute_result"
    }
   ],
   "source": [
    "df.Qualification.unique()"
   ]
  },
  {
   "cell_type": "code",
   "execution_count": 49,
   "metadata": {},
   "outputs": [
    {
     "data": {
      "text/html": [
       "<div>\n",
       "<style scoped>\n",
       "    .dataframe tbody tr th:only-of-type {\n",
       "        vertical-align: middle;\n",
       "    }\n",
       "\n",
       "    .dataframe tbody tr th {\n",
       "        vertical-align: top;\n",
       "    }\n",
       "\n",
       "    .dataframe thead th {\n",
       "        text-align: right;\n",
       "    }\n",
       "</style>\n",
       "<table border=\"1\" class=\"dataframe\">\n",
       "  <thead>\n",
       "    <tr style=\"text-align: right;\">\n",
       "      <th></th>\n",
       "      <th>Qualification</th>\n",
       "      <th>Experience</th>\n",
       "      <th>Rating</th>\n",
       "      <th>Place</th>\n",
       "      <th>Profile</th>\n",
       "      <th>Miscellaneous_Info</th>\n",
       "    </tr>\n",
       "  </thead>\n",
       "  <tbody>\n",
       "    <tr>\n",
       "      <th>0</th>\n",
       "      <td>401</td>\n",
       "      <td>24 years experience</td>\n",
       "      <td>100%</td>\n",
       "      <td>Kakkanad, Ernakulam</td>\n",
       "      <td>Homeopath</td>\n",
       "      <td>100% 16 Feedback Kakkanad, Ernakulam</td>\n",
       "    </tr>\n",
       "    <tr>\n",
       "      <th>1</th>\n",
       "      <td>73</td>\n",
       "      <td>12 years experience</td>\n",
       "      <td>98%</td>\n",
       "      <td>Whitefield, Bangalore</td>\n",
       "      <td>Ayurveda</td>\n",
       "      <td>98% 76 Feedback Whitefield, Bangalore</td>\n",
       "    </tr>\n",
       "    <tr>\n",
       "      <th>2</th>\n",
       "      <td>1135</td>\n",
       "      <td>9 years experience</td>\n",
       "      <td>NaN</td>\n",
       "      <td>Mathikere - BEL, Bangalore</td>\n",
       "      <td>ENT Specialist</td>\n",
       "      <td>NaN</td>\n",
       "    </tr>\n",
       "    <tr>\n",
       "      <th>3</th>\n",
       "      <td>464</td>\n",
       "      <td>12 years experience</td>\n",
       "      <td>NaN</td>\n",
       "      <td>Bannerghatta Road, Bangalore</td>\n",
       "      <td>Ayurveda</td>\n",
       "      <td>Bannerghatta Road, Bangalore ₹250 Available on...</td>\n",
       "    </tr>\n",
       "    <tr>\n",
       "      <th>4</th>\n",
       "      <td>10</td>\n",
       "      <td>20 years experience</td>\n",
       "      <td>100%</td>\n",
       "      <td>Keelkattalai, Chennai</td>\n",
       "      <td>Ayurveda</td>\n",
       "      <td>100% 4 Feedback Keelkattalai, Chennai</td>\n",
       "    </tr>\n",
       "  </tbody>\n",
       "</table>\n",
       "</div>"
      ],
      "text/plain": [
       "   Qualification           Experience Rating                         Place  \\\n",
       "0            401  24 years experience   100%           Kakkanad, Ernakulam   \n",
       "1             73  12 years experience    98%         Whitefield, Bangalore   \n",
       "2           1135   9 years experience    NaN    Mathikere - BEL, Bangalore   \n",
       "3            464  12 years experience    NaN  Bannerghatta Road, Bangalore   \n",
       "4             10  20 years experience   100%         Keelkattalai, Chennai   \n",
       "\n",
       "          Profile                                 Miscellaneous_Info  \n",
       "0       Homeopath               100% 16 Feedback Kakkanad, Ernakulam  \n",
       "1        Ayurveda              98% 76 Feedback Whitefield, Bangalore  \n",
       "2  ENT Specialist                                                NaN  \n",
       "3        Ayurveda  Bannerghatta Road, Bangalore ₹250 Available on...  \n",
       "4        Ayurveda              100% 4 Feedback Keelkattalai, Chennai  "
      ]
     },
     "execution_count": 49,
     "metadata": {},
     "output_type": "execute_result"
    }
   ],
   "source": [
    "df.head()"
   ]
  },
  {
   "cell_type": "code",
   "execution_count": 50,
   "metadata": {},
   "outputs": [],
   "source": [
    "from sklearn.preprocessing import LabelEncoder\n",
    "LE=LabelEncoder()\n",
    "df['Place']=df['Place'].replace({'Place:0 or 1'})\n"
   ]
  },
  {
   "cell_type": "code",
   "execution_count": 51,
   "metadata": {},
   "outputs": [
    {
     "data": {
      "text/plain": [
       "array(['Kakkanad, Ernakulam', 'Whitefield, Bangalore',\n",
       "       'Mathikere - BEL, Bangalore', 'Bannerghatta Road, Bangalore',\n",
       "       'Keelkattalai, Chennai', 'Porur, Chennai', 'Karol Bagh, Delhi',\n",
       "       'Arekere, Bangalore', 'Old City, Hyderabad', 'Athani, Ernakulam',\n",
       "       'Thousand Lights, Chennai', 'Somajiguda, Hyderabad',\n",
       "       'Coimbatore Racecourse, Coimbatore', 'Jubilee Hills, Hyderabad',\n",
       "       'Kondli, Delhi', 'Saroor Nagar, Hyderabad',\n",
       "       'Tambaram West, Chennai', 'Purasawakkam, Chennai',\n",
       "       'KPHB, Hyderabad', 'HSR Layout, Bangalore', 'Pollachi, Coimbatore',\n",
       "       'Vasundhra Enclave, Delhi', 'Chembur, Mumbai',\n",
       "       'Thammanam, Ernakulam', 'Andheri, Mumbai',\n",
       "       'Pattom, Thiruvananthapuram', 'Kukatpally, Hyderabad',\n",
       "       'Vadavalli, Coimbatore', 'Defence Colony, Delhi',\n",
       "       'Banjara Hills, Hyderabad', 'Sion West, Mumbai', 'CR Park, Delhi',\n",
       "       'Mogappair East, Chennai', 'IP Extension, Delhi',\n",
       "       'Safdarjung Enclave, Delhi', 'New Friends Colony, Delhi',\n",
       "       'Borivali West, Mumbai', 'Saket, Delhi', 'Malad, Mumbai',\n",
       "       'Hyder Nagar, Hyderabad', 'Dahisar West, Mumbai',\n",
       "       'RT Nagar, Bangalore', 'Powai, Mumbai', 'Basheerbagh, Hyderabad',\n",
       "       'Musheerabad, Hyderabad', 'AS Rao Nagar, Hyderabad',\n",
       "       'Madhapur, Hyderabad', 'Gandhinagar, Hyderabad',\n",
       "       'Chetpet, Chennai', 'Vileparle East, Mumbai',\n",
       "       'Yelahanka New Town, Bangalore', 'Kodambakkam, Chennai',\n",
       "       'Malleswaram, Bangalore', 'Pallikaranai, Chennai',\n",
       "       'Nallakunta, Hyderabad', 'Paschim Vihar, Delhi',\n",
       "       'Meera Bagh, Delhi', 'Chattarpur, Delhi', 'Andheri West, Mumbai',\n",
       "       'Himayat Nagar, Hyderabad', 'Adambakkam, Chennai',\n",
       "       'Punjabi Bagh, Delhi', 'Mahalaxmi, Mumbai', 'Kalina, Mumbai',\n",
       "       'Attapur, Hyderabad', 'Lakdikapul, Hyderabad', 'Ambattur, Chennai',\n",
       "       'Ramnagar, Coimbatore', 'Shalimar Bagh, Delhi',\n",
       "       'Nungambakkam, Chennai', 'Miyapur, Hyderabad', 'Sagarpur, Delhi',\n",
       "       'Girgaon, Mumbai', 'Jayanagar, Bangalore',\n",
       "       'Palayam, Thiruvananthapuram', 'Munirka, Delhi',\n",
       "       'Tuglakabad, Delhi', 'Moosarambagh, Hyderabad', nan,\n",
       "       'Anna Nagar East, Chennai', 'Bandra West, Mumbai',\n",
       "       'Kanakpura Road, Bangalore', 'Green Park, Delhi',\n",
       "       'Maduravoyal, Chennai', 'Dahisar East, Mumbai',\n",
       "       'Moosapet, Hyderabad', 'Koramangala, Bangalore',\n",
       "       'TV Medical College, Thiruvananthapuram', 'Kadavanthra, Ernakulam',\n",
       "       'Greams Road, Chennai', 'Bommanahalli, Bangalore',\n",
       "       'T Nagar, Chennai', 'Yelahanka, Bangalore',\n",
       "       'Hazrat Nizamuddin, Delhi', 'Old Rajendra Nagar, Delhi',\n",
       "       'Dadar West, Mumbai', 'Indiranagar, Bangalore',\n",
       "       'Perumbakkam, Chennai', 'Shaikpet, Hyderabad',\n",
       "       'Vyttila, Ernakulam', 'Khar West, Mumbai', 'Goregaon West, Mumbai',\n",
       "       'Bakkarwala, Delhi', 'Nesapakkam, Chennai',\n",
       "       'BTM Layout 2nd Stage, Bangalore', 'Ashok Nagar, Chennai',\n",
       "       'Chandivali, Mumbai', 'Uttam Nagar, Delhi',\n",
       "       'Gujranwala Town, Delhi', 'Greater Kailash Part 1, Delhi',\n",
       "       'Panchsheel Park, Delhi', 'Thoraipakkam, Chennai',\n",
       "       'South Extension 2, Delhi', 'Kandivali East, Mumbai',\n",
       "       'Pitampura, Delhi', 'Banashankari 3rd Stage, Bangalore',\n",
       "       'Kolenchery, Ernakulam', 'Kumaraswamy Layout, Bangalore',\n",
       "       'Vadapalani, Chennai', 'Manikonda, Hyderabad',\n",
       "       'Gandhipuram, Coimbatore', 'Yeshwanthpur, Bangalore',\n",
       "       'Ayanavaram, Chennai', 'Basaveshwaranagar, Bangalore',\n",
       "       'Malad West, Mumbai', 'Vikas Puri, Delhi', 'Kondapur, Hyderabad',\n",
       "       'Andheri East, Mumbai', 'Sulur, Coimbatore', 'Adyar, Chennai',\n",
       "       'Krishna Nagar, Delhi', 'Langer House, Hyderabad',\n",
       "       'Thiruvanmiyur, Chennai', 'Dwarka, Delhi', 'Bhandup West, Mumbai',\n",
       "       'Janak Puri, Delhi', 'Rajajinagar, Bangalore',\n",
       "       'South Extension 1, Delhi', 'Kemps Corner, Mumbai',\n",
       "       'Peelamedu, Coimbatore', 'Kandivali West, Mumbai',\n",
       "       'Thevara, Ernakulam', 'Wilson Garden, Bangalore', 'Wadala, Mumbai',\n",
       "       'Pahar Ganj, Delhi', 'Chanchalguda, Hyderabad',\n",
       "       'Chikkadpally, Hyderabad', 'Pasur-avanashi, Coimbatore',\n",
       "       'Nagarbhavi, Bangalore', 'Lajpat Nagar, Delhi',\n",
       "       'Mayur Vihar Ph-I, Delhi', 'Dilshad Garden, Delhi',\n",
       "       'Vijayanagar, Bangalore', 'Alwarpet, Chennai',\n",
       "       'Pappanamcode, Thiruvananthapuram', 'Aluva, Ernakulam',\n",
       "       'Nariman Point, Mumbai', 'Kilkattalai, Chennai',\n",
       "       'Dilsukhnagar, Hyderabad', 'Kurla West, Mumbai',\n",
       "       'Begumpet, Hyderabad', 'Kaloor, Ernakulam',\n",
       "       'Hitech City, Hyderabad', 'Goregaon East, Mumbai',\n",
       "       'Velandipalayam, Coimbatore', 'Ghatkopar East, Mumbai',\n",
       "       'Mulund West, Mumbai', 'Yousufguda, Hyderabad',\n",
       "       'Ghatkopar West, Mumbai', 'TVM Beach, Thiruvananthapuram',\n",
       "       'Vanagaram, Chennai', 'Worli, Mumbai',\n",
       "       'Koramangala 1 Block, Bangalore', 'Saki Vihar Road, Mumbai',\n",
       "       'Versova, Mumbai', 'CV Raman Nagar, Bangalore',\n",
       "       'Secunderabad, Hyderabad', 'BTM Layout 1st Stage, Bangalore',\n",
       "       'Ramkoti, Hyderabad', 'MRC Nagar, Chennai',\n",
       "       'Malkajgiri, Hyderabad', 'Gachibowli, Hyderabad',\n",
       "       'Mogappair West, Chennai', 'Mayur Vihar Ph-III, Delhi',\n",
       "       'Kurla East, Mumbai', 'Ashok Vihar, Delhi', 'Mahim, Mumbai',\n",
       "       'Villivakkam, Chennai', 'Srinagar Colony, Hyderabad',\n",
       "       'Chromepet, Chennai', 'Pammal, Chennai', 'Banashankari, Bangalore',\n",
       "       'Velachery, Chennai', 'Chanakyapuri, Delhi',\n",
       "       'Kalyan Nagar, Bangalore', 'Oshiwara, Mumbai',\n",
       "       'Karapakkam, Chennai', 'Borivali, Mumbai', 'Mylapore, Chennai',\n",
       "       'Electronics City, Bangalore', 'Perungudi, Chennai',\n",
       "       'Basavanagudi, Bangalore', 'MG Road, Bangalore',\n",
       "       'Thiruvottiyur, Chennai', 'Greater Kailash Part 2, Delhi',\n",
       "       'Bilekahalli, Bangalore', 'Nanganallur, Chennai', 'Rohini, Delhi',\n",
       "       'Thrikkakara, Ernakulam', 'Manapakkam, Chennai',\n",
       "       'Bellandur, Bangalore', 'Ameerpet, Hyderabad',\n",
       "       'Thiruvallom, Thiruvananthapuram', 'R.S. Puram, Coimbatore',\n",
       "       'Kumarapuram, Thiruvananthapuram', 'Palam Colony, Delhi',\n",
       "       'Manali, Chennai', 'Valasaravakkam, Chennai',\n",
       "       'Barkatpura, Hyderabad', 'Singanallur, Coimbatore',\n",
       "       'Mulund, Mumbai', 'Dadar East, Mumbai', 'Borabanda, Hyderabad',\n",
       "       'Model Town 3, Delhi', 'Ulsoor, Bangalore',\n",
       "       'Bhayandar West, Mumbai', 'Hari Nagar, Delhi',\n",
       "       'Horamavu, Bangalore', 'Santacruz East, Mumbai',\n",
       "       'OMR Road, Chennai', 'Kammana Halli, Bangalore',\n",
       "       'Tilak Nagar, Delhi', 'Panathur, Bangalore',\n",
       "       'Rajarajeshwarinagar, Bangalore', 'Paravur, Ernakulam',\n",
       "       'Preet Vihar, Delhi', 'Chembur East, Mumbai', 'Jakkur, Bangalore',\n",
       "       'Vanasthalipuram, Hyderabad', 'Mandaveli, Chennai',\n",
       "       'Kumara Park West, Bangalore', 'Domlur, Bangalore',\n",
       "       'Jeevanbhimanagar, Bangalore', 'Santacruz West, Mumbai',\n",
       "       'Shankar Vihar, Delhi', 'Jogeshwari East, Mumbai',\n",
       "       'Kasavanahalli, Bangalore', 'Ambalamukku, Thiruvananthapuram',\n",
       "       'Jhilmil Colony, Delhi', 'Dwarka Sector 7, Delhi',\n",
       "       'Tatabad, Coimbatore', 'Marine Lines, Mumbai',\n",
       "       'Tolichowki, Hyderabad', 'Sundarapuram, Coimbatore',\n",
       "       'Kothanur, Bangalore', 'Chinmaya Nagar, Chennai',\n",
       "       'Vasant Vihar, Delhi', 'Mehdipatnam, Hyderabad',\n",
       "       'Kadugodi, Bangalore', 'Ganapathy, Coimbatore',\n",
       "       'SR Nagar, Hyderabad', 'Perambur, Chennai', 'Opera House, Mumbai',\n",
       "       'Selvapuram, Coimbatore', 'Karkardooma, Delhi',\n",
       "       'Alwarthirunagar, Chennai', 'KR Puram, Bangalore',\n",
       "       'Ramesh Nagar, Delhi', 'Malakpet, Hyderabad',\n",
       "       'Tondiarpet, Chennai', 'Vikrampuri Colony, Hyderabad',\n",
       "       'Besant Nagar, Chennai', 'Vasant Kunj, Delhi',\n",
       "       'Banaswadi, Bangalore', 'BTM Layout, Bangalore',\n",
       "       'Medavakkam, Chennai', 'Vileparle West, Mumbai',\n",
       "       'Sahakaranagar, Bangalore', 'LB Nagar, Hyderabad',\n",
       "       'Punjagutta, Hyderabad', 'Yamuna Vihar, Delhi',\n",
       "       'Marathahalli, Bangalore', 'JP Nagar 2 Phase, Bangalore',\n",
       "       'Rani Bagh, Delhi', 'Jayamahal, Bangalore', 'Nagpada, Mumbai',\n",
       "       'Kundalahalli, Bangalore', 'Kailash Colony, Delhi',\n",
       "       'Pandav Nagar, Delhi', 'Karkhana, Hyderabad',\n",
       "       'West Mambalam, Chennai', 'Aminjikarai, Chennai',\n",
       "       'Madipakkam, Chennai', 'Charkop, Mumbai', 'Adarsh Nagar, Delhi',\n",
       "       'Dadar, Mumbai', 'Kaggadasapura, Bangalore', 'Matunga, Mumbai',\n",
       "       'Sun city, Hyderabad', 'Mahadevapura, Bangalore',\n",
       "       'Kalady, Ernakulam', 'Anna Nagar West, Chennai',\n",
       "       'Mayur Vihar Ph-II, Delhi', 'Tis Hazari, Delhi',\n",
       "       'Vennala, Ernakulam', 'Mira Road, Mumbai', 'Alwal, Hyderabad',\n",
       "       'Trimulgherry, Hyderabad', 'Raja Annamalai Puram, Chennai',\n",
       "       'JP Nagar 7 Phase, Bangalore', 'Old Bowenpally, Hyderabad',\n",
       "       'Santosh Nagar, Hyderabad', 'Hope College, Coimbatore',\n",
       "       'Mulund East, Mumbai', 'Mount Road, Chennai',\n",
       "       'Patel Nagar West, Delhi', 'Jayanagar 4 Block, Bangalore',\n",
       "       'West Marredpally, Hyderabad', 'Jagriti Enclave, Delhi',\n",
       "       'Sarita Vihar, Delhi', 'Rajendra Nagar, Hyderabad',\n",
       "       'Thudiyalur, Coimbatore', 'Bhayandar East, Mumbai',\n",
       "       'Narayanguda, Hyderabad', 'Kothapet, Hyderabad',\n",
       "       'KK Nagar, Chennai', 'Tripunithura, Ernakulam',\n",
       "       'Model Town, Delhi', 'Suchitra Circle, Hyderabad',\n",
       "       'Pusa Road, Delhi', 'Vijaynagar Colony, Hyderabad',\n",
       "       'Alandur, Chennai', 'Cuffe Parade, Mumbai', 'Kalkaji, Delhi',\n",
       "       'Saibaba Colony, Coimbatore', 'Kattakada, Thiruvananthapuram',\n",
       "       'Jogeshwari West, Mumbai', 'Erragadda, Hyderabad',\n",
       "       'Tilak Nagar, Hyderabad', 'Edapally, Ernakulam',\n",
       "       'Patparganj, Delhi', 'Sainikpuri, Hyderabad',\n",
       "       'Nanjundapuram, Coimbatore', 'Nizampet, Hyderabad',\n",
       "       'Kolathur, Chennai', 'Chamarajpet, Bangalore',\n",
       "       'Kala Ghoda, Mumbai', 'Padmarao Nagar, Hyderabad',\n",
       "       'Uppal, Hyderabad', 'Guduvanchery, Chennai',\n",
       "       'Satya Niketan, Delhi', 'Chanda Nagar, Hyderabad',\n",
       "       'Sowripalayam, Coimbatore', 'Vikhroli West, Mumbai',\n",
       "       'Rajouri Garden, Delhi', 'Alaknanda, Delhi',\n",
       "       'Millers Road, Bangalore', 'Kandanchavadi, Chennai',\n",
       "       'Vigyan Vihar, Delhi', 'Bandra East, Mumbai',\n",
       "       'Vilankurichi, Coimbatore', 'Malad East, Mumbai',\n",
       "       'Prabhadevi, Mumbai', 'Ulloor, Thiruvananthapuram',\n",
       "       'Rajakilpakkam, Chennai', 'Greater Kailash, Delhi',\n",
       "       'Madinaguda, Hyderabad', 'Borivali East, Mumbai', 'Juhu, Mumbai',\n",
       "       'Mugalivakkam, Chennai', 'Hebbal, Bangalore', 'Kirti Nagar, Delhi',\n",
       "       'Balaramapuram, Thiruvananthapuram', 'Bhandup East, Mumbai',\n",
       "       'VV Puram, Bangalore', 'Kilpauk, Chennai', 'Jacob Circle, Mumbai',\n",
       "       'Singasandra, Bangalore', 'Khairatabad, Hyderabad',\n",
       "       'Coimbatore Aerodrome, Coimbatore', 'J.C Nagar, Bangalore',\n",
       "       'Naraina Vihar, Delhi', 'Virugambakkam, Chennai',\n",
       "       'RK Puram, Delhi', 'Banashankari 1st Stage, Bangalore',\n",
       "       'Lajpat Nagar 4, Delhi', 'Jayanagar 5 Block, Bangalore',\n",
       "       'Kalyanpuri, Hyderabad', 'Tambaram, Chennai', 'Laxmi Nagar, Delhi',\n",
       "       'Anand Vihar, Delhi', 'Charni Road, Mumbai',\n",
       "       'Patel Nagar East, Delhi', 'Jayanagar 9 Block, Bangalore',\n",
       "       'Ecil, Hyderabad', 'Ramamurthy Nagar, Bangalore',\n",
       "       'Raj Nagar - 2, Delhi', 'Chunabhatti, Mumbai',\n",
       "       'Vikhroli East, Mumbai', 'Shakarpur, Delhi', 'Shahdara, Delhi',\n",
       "       'Govandi, Mumbai', 'Mira Bhayandar, Mumbai',\n",
       "       'Doddanekundi, Bangalore', 'Madhu Vihar, Delhi', 'Guindy, Chennai',\n",
       "       'Palarivattom, Ernakulam', 'Charminar, Hyderabad',\n",
       "       'Old Airport Road, Bangalore', 'Sarjapur Road, Bangalore',\n",
       "       'Okhla, Delhi', 'Baghlingampally, Hyderabad', 'Trombay, Mumbai',\n",
       "       'HRBR Layout, Bangalore', 'Fort, Mumbai', 'Shastri Nagar, Delhi',\n",
       "       'Red Hills, Chennai', 'New BEL Road, Bangalore',\n",
       "       'Park Town, Chennai', 'Frazer Town, Bangalore',\n",
       "       'Falaknuma, Hyderabad', 'Rohini Sector 7, Delhi',\n",
       "       'East Of Kailash, Delhi', 'Chintadripet, Chennai',\n",
       "       'Tagore Garden, Delhi', 'Tri Nagar, Delhi',\n",
       "       'Muttada, Thiruvananthapuram', 'Munnekollal, Bangalore',\n",
       "       'TV Museum, Thiruvananthapuram', 'Shivalik, Delhi',\n",
       "       'Neb Sarai, Delhi', 'Mahalakshmi Layout, Bangalore',\n",
       "       'Mankhurd, Mumbai', 'Kamla Nagar, Delhi',\n",
       "       'Saravanampatti, Coimbatore', 'Selaiyur, Chennai',\n",
       "       'Saligramam, Chennai', 'Thirumullaivoyal, Chennai',\n",
       "       'Teynampet, Chennai', 'Kochi, Ernakulam',\n",
       "       'Vidyaranyapura, Bangalore', 'Mogappair, Chennai',\n",
       "       'Mazgaon, Mumbai', 'Shivaji Nagar, Bangalore', 'Jangpura, Delhi',\n",
       "       'Kaudiar Square, Thiruvananthapuram', 'Arumbakkam, Chennai',\n",
       "       'Cherai, Ernakulam', 'Mira-Bhayandar Road, Mumbai',\n",
       "       'Ram Nagar, Delhi', 'Parel, Mumbai', 'Thanisandra, Bangalore',\n",
       "       'Pragathi Nagar, Hyderabad', 'Karamana, Thiruvananthapuram',\n",
       "       'AECS Layout, Bangalore', 'Nizamuddin East, Delhi',\n",
       "       'Ramanathapuram, Coimbatore', 'Anna Nagar, Chennai',\n",
       "       'Shenoy Nagar, Chennai', 'Siddhapudur, Coimbatore',\n",
       "       'Keshav Puram, Delhi', 'Edakochi, Ernakulam',\n",
       "       'Nagawara, Bangalore', 'Chintal, Hyderabad',\n",
       "       'Malviya Nagar, Delhi', 'Karwan, Hyderabad',\n",
       "       'Vazhakulam, Ernakulam', 'PMG Jn, Thiruvananthapuram',\n",
       "       'Dwarka Sector 6, Delhi', 'Viveknagar, Bangalore',\n",
       "       'Balapur, Hyderabad', 'Banashankari 2nd Stage, Bangalore',\n",
       "       'Azadpur, Delhi', 'Moti Nagar, Delhi', 'Sakinaka, Mumbai',\n",
       "       'Thoppumpady, Ernakulam', 'Sanath Nagar, Hyderabad',\n",
       "       'Royapettah, Chennai', 'Koramangala 5 Block, Bangalore',\n",
       "       'Kanjurmarg, Mumbai', 'Ernakulam College, Ernakulam',\n",
       "       'Urapakkam, Chennai', 'Coimbatore Ukkadam, Coimbatore',\n",
       "       'Sreekaryam, Thiruvananthapuram', 'Ernakulam North, Ernakulam',\n",
       "       'Sultanpur, Delhi', 'Banerji Road, Ernakulam',\n",
       "       'Balkampet, Hyderabad', 'Kavundampalayam, Coimbatore',\n",
       "       'Kanchanbagh, Hyderabad', 'Patel Nagar, Delhi', 'Kilokri, Delhi',\n",
       "       'Hoodi, Bangalore', 'New Seemapuri, Delhi',\n",
       "       'Seshadripuram, Bangalore', 'Vijaynagar, Delhi',\n",
       "       'Bowenpally, Hyderabad', 'Ondipudur, Coimbatore',\n",
       "       'Triplicane, Chennai', 'Richmond Town, Bangalore',\n",
       "       'New Rajendra Nagar, Delhi', 'Jahangirpuri, Delhi',\n",
       "       'Vivek Vihar, Delhi', 'Malleshpalya, Bangalore',\n",
       "       'Pezhakkappilly, Ernakulam', 'Lingampally, Hyderabad',\n",
       "       'Jamia Nagar, Delhi', 'Begum Bazar, Hyderabad',\n",
       "       'Lower Parel, Mumbai', 'ECR Road, Chennai', 'Nangloi, Delhi',\n",
       "       'Chintalmet, Hyderabad', 'West Of Chord Road, Bangalore',\n",
       "       'SV Road, Mumbai', 'JP Nagar 5 Phase, Bangalore',\n",
       "       'Sanjay Nagar, Bangalore', 'Panampilly Nagar, Ernakulam',\n",
       "       'Dharavi, Mumbai', 'Abbigere, Bangalore',\n",
       "       'Manacaud, Thiruvananthapuram', 'Poonamalle, Chennai',\n",
       "       'Najafgarh, Delhi', 'Uttarahalli, Bangalore', 'Sembakkam, Chennai',\n",
       "       'Tarnaka, Hyderabad', 'Nandanam, Chennai', 'Saidapet, Chennai',\n",
       "       'Choolaimedu, Chennai', 'Perungalathur, Chennai',\n",
       "       'Gulabi Bagh, Delhi', 'Jasola, Delhi',\n",
       "       'JP Nagar 3 Phase, Bangalore', 'Uppilipalayam, Coimbatore',\n",
       "       'Sadashivanagar, Bangalore', 'Rohini Sector 24, Delhi',\n",
       "       'Muvattupuzha, Ernakulam', 'Khan Market, Delhi',\n",
       "       'Abids, Hyderabad', 'Geeta Colony, Delhi', 'Madandapuram, Chennai',\n",
       "       'Dwarka Sector 22, Delhi', 'Grant Road, Mumbai',\n",
       "       'Jeedimetla, Hyderabad', 'Tambaram East, Chennai',\n",
       "       'Kothaguda, Hyderabad', 'Hauz Khas, Delhi', 'Habsiguda, Hyderabad',\n",
       "       'Breach Candy, Mumbai', 'Vidyanagar, Bangalore',\n",
       "       'Begur, Bangalore', 'Dahisar, Mumbai', 'Pachalam, Ernakulam',\n",
       "       'Perumbavoor, Ernakulam', 'Avadi, Chennai',\n",
       "       'Coimbatore Central, Coimbatore', 'Lokhandwala, Mumbai',\n",
       "       'Tiruvottiyur, Chennai', 'Ullal Upanagara, Bangalore',\n",
       "       'Perurkada, Thiruvananthapuram', 'Ashok Vihar Phase 3, Delhi',\n",
       "       'Walkeshwar, Mumbai', 'Saidabad, Hyderabad',\n",
       "       'Koramangala 6 Block, Bangalore', 'New Ashok Nagar, Delhi',\n",
       "       'Peddar Road, Mumbai', 'Aya Nagar, Delhi', 'JP Nagar, Bangalore',\n",
       "       'Sasthamangalam, Thiruvananthapuram', 'Yakutpura, Hyderabad',\n",
       "       'Sampangiramnagar, Bangalore', 'Kasturi nagar, Bangalore',\n",
       "       'Pallavaram, Chennai', 'Moti Bagh, Delhi',\n",
       "       'Mukherjee Nagar, Delhi', 'Byculla, Mumbai', 'Peeragarhi, Delhi',\n",
       "       'Amberpet, Hyderabad', 'JP Nagar 6 Phase, Bangalore',\n",
       "       'Sholinganallur, Chennai', 'Langford Road, Bangalore',\n",
       "       'Cumballa Hill, Mumbai', 'Colaba, Mumbai',\n",
       "       'Qutab Institutional Area, Delhi', 'Dommasandra, Bangalore',\n",
       "       'Malabar Hill, Mumbai', 'Koramangala 8 Block, Bangalore',\n",
       "       'Rohini Sector 22, Delhi', 'Lothkunta, Hyderabad',\n",
       "       'HAL 2nd Stage, Bangalore', 'Jayanagar 7 Block, Bangalore',\n",
       "       'Vadasserikonam, Thiruvananthapuram',\n",
       "       'East Marredpally, Hyderabad', 'Kelambakkam, Chennai',\n",
       "       'Chinchpokli, Mumbai', 'Delhi Cantt, Delhi',\n",
       "       'Padmanabhanagar, Bangalore', 'Sheikh Sarai, Delhi',\n",
       "       'Washermenpet, Chennai', 'Konanakunte, Bangalore',\n",
       "       'Ashok Vihar Phase 1, Delhi', 'Thirumala, Thiruvananthapuram',\n",
       "       'Sarjapura, Bangalore', 'JP Nagar 1 Phase, Bangalore',\n",
       "       'JB Nagar, Mumbai', 'Paruthippara, Thiruvananthapuram',\n",
       "       'Vikhroli, Mumbai', 'JP Nagar 8 Phase, Bangalore',\n",
       "       'GTB Nagar, Delhi', 'Vidyanagar, Hyderabad',\n",
       "       'Masab Tank, Hyderabad', 'Hafeezpet, Hyderabad',\n",
       "       'Jeevan Park, Delhi', 'Dwarka Sector 5, Delhi',\n",
       "       'Civil Lines, Delhi', 'Anand Niketan, Delhi',\n",
       "       'Pappanaickenpalayam, Coimbatore', 'Koovappady, Ernakulam',\n",
       "       'Dwarka, Sector 5, Delhi', 'Srirampuram, Bangalore',\n",
       "       'Korattur, Chennai', 'Pappanaickenpudur, Coimbatore',\n",
       "       'Gandhi Nagar, Delhi', 'Vignan Nagar, Bangalore',\n",
       "       'Ganganagar, Bangalore', 'Elamakkara, Ernakulam',\n",
       "       'Boduppal, Hyderabad', 'Tilak Nagar, Mumbai', 'Khetwadi, Mumbai',\n",
       "       'Kengeri, Bangalore', 'Sion East, Mumbai',\n",
       "       'Rohini Sector 6, Delhi', 'Kazhakuttam, Thiruvananthapuram',\n",
       "       'Goregaon, Mumbai', 'Peroor, Thiruvananthapuram',\n",
       "       'New Thippasandra, Bangalore', 'Jalahalli, Bangalore',\n",
       "       'King Koti, Hyderabad', 'Kallambalam, Thiruvananthapuram',\n",
       "       'Dwarka Sector 13, Delhi', 'Residency Road, Bangalore',\n",
       "       'Radhakrishnan Salai, Chennai', 'Hulimavu, Bangalore',\n",
       "       'Dasarahalli, Bangalore', 'Vileparle, Mumbai', 'Delhi, Delhi',\n",
       "       'Kachiguda, Hyderabad', 'Venkitapuram, Coimbatore',\n",
       "       'Kuniamuthur, Coimbatore', 'TV Chalai, Thiruvananthapuram',\n",
       "       'Serilingampally, Hyderabad', 'RMV 2nd Stage, Bangalore',\n",
       "       'Champapet, Hyderabad', 'Surya Niketan, Delhi',\n",
       "       'Kovilpalayam, Coimbatore', 'Nampally, Hyderabad',\n",
       "       'Siddapura, Bangalore', 'Neredmet, Hyderabad',\n",
       "       'Vellakinar, Coimbatore', 'Egmore, Chennai',\n",
       "       'Katwaria Sarai, Delhi', 'Navalur, Chennai', 'Mehrauli, Delhi',\n",
       "       'HBR Layout, Bangalore', 'Subhash Nagar, Delhi',\n",
       "       'Mallepally, Hyderabad', 'Eroor South, Ernakulam',\n",
       "       'Lajpat Nagar III, Delhi', 'Kodungaiyur, Chennai',\n",
       "       'Kuppakonanpudur, Coimbatore', 'Paradise, Hyderabad',\n",
       "       'Rohini Sector 4, Delhi', 'Koramangala 4 Block, Bangalore',\n",
       "       'Dwarka Sector 3, Delhi', 'Durga Puri, Delhi',\n",
       "       'Kalamassery, Ernakulam', 'Gulmohar Park, Delhi',\n",
       "       'Adugodi, Bangalore', 'Moti Nagar, Hyderabad',\n",
       "       'Nallagandla, Hyderabad', 'Gowrivakkam, Chennai',\n",
       "       'Periyar Nagar, Chennai', 'Austin Town, Bangalore',\n",
       "       'Afzalgunj, Hyderabad', 'Cotton Hill, Thiruvananthapuram',\n",
       "       'Goldwins, Coimbatore', 'Kuravankonam, Thiruvananthapuram',\n",
       "       'Rohini Sector 3, Delhi', 'Lado Sarai, Delhi',\n",
       "       'Koramangala 2 Block, Bangalore', 'Madangir, Delhi',\n",
       "       'Marine Drive, Mumbai', 'Marine Drive, Ernakulam',\n",
       "       'Angamaly, Ernakulam', 'Neelankarai, Chennai',\n",
       "       'Churchgate, Mumbai', 'Kalapatti, Coimbatore', 'Nand Nagri, Delhi',\n",
       "       'Kandivali, Mumbai', 'Madanpura, Mumbai', 'Hegde Nagar, Bangalore',\n",
       "       'Domalguda, Hyderabad', 'Mumbai Central, Mumbai',\n",
       "       'Vasanthnagar, Bangalore', 'Kapashera, Delhi',\n",
       "       'August Kranti Marg, Delhi', 'Krishna Nagar, Hyderabad',\n",
       "       'Lal baug, Mumbai', 'Perumathura, Thiruvananthapuram',\n",
       "       'Molarband, Delhi', 'Piravom, Ernakulam', 'Neeti Bagh, Delhi',\n",
       "       'Kishanbagh, Hyderabad', 'Shantinagar, Bangalore',\n",
       "       'Poojapura, Thiruvananthapuram', 'Rathinapuri, Coimbatore',\n",
       "       'Model Town 1, Delhi', 'Koothattukulam, Ernakulam',\n",
       "       'Anand Lok, Delhi', 'Pappanaickenpalayam West, Coimbatore',\n",
       "       'Subzi Mandi, Delhi', 'Sion, Mumbai', 'Nagole, Hyderabad',\n",
       "       'TVM Pettah, Thiruvananthapuram', 'Changampuzha Nagar, Ernakulam',\n",
       "       'Puzhal, Chennai', 'Vanchiyur, Thiruvananthapuram',\n",
       "       'Sukh Vihar, Delhi', 'Kovalam, Thiruvananthapuram',\n",
       "       'Swasthya Vihar, Delhi', 'Tardeo, Mumbai', 'Vishnu Garden, Delhi',\n",
       "       'Jayanagar 1 Block, Bangalore', 'Sion Koliwada, Mumbai',\n",
       "       'Marol, Mumbai', 'Kalkere, Bangalore', 'Sindhi Colony, Hyderabad',\n",
       "       'Silampur, Delhi', 'Varthur, Bangalore', 'Model Town 2, Delhi',\n",
       "       'Surajmal Vihar, Delhi', 'Chandni Chowk, Delhi',\n",
       "       'Veerakeralam, Coimbatore', 'T Dasarahalli, Bangalore',\n",
       "       'Kaggalipura, Bangalore', 'Thonnakkal, Thiruvananthapuram',\n",
       "       'Manjapra, Ernakulam', 'Yellareddyguda, Hyderabad',\n",
       "       'Kovilambakkam, Chennai', 'Broadway, Chennai',\n",
       "       'Podanur, Coimbatore', 'Kompally, Hyderabad',\n",
       "       'Kottivakkam, Chennai', 'Mansarover Garden, Delhi',\n",
       "       'Mandapeshwar, Mumbai', 'Rohini Sector 15, Delhi',\n",
       "       'Vaduthala, Ernakulam', 'Hebbal Kempapura, Bangalore',\n",
       "       'Sithalapakkam, Chennai', 'MKB Nagar, Chennai',\n",
       "       'MG Road, Hyderabad', 'Darya Ganj, Delhi',\n",
       "       'Venjaramoodu, Thiruvananthapuram', 'Kotturpuram, Chennai',\n",
       "       'Ramapuram, Chennai', 'Karmanghat, Hyderabad',\n",
       "       'Moula Ali, Hyderabad', 'Netaji Nagar, Delhi',\n",
       "       'Chandra Layout, Bangalore', 'Akshaya nagar, Bangalore',\n",
       "       'Nirman Vihar, Delhi', 'Vasant Enclave, Delhi',\n",
       "       'St Thomas Mount, Chennai', 'Royapuram, Chennai',\n",
       "       'Abhiramapuram, Chennai', 'Inder Puri, Delhi',\n",
       "       'Edayarpalayam, Coimbatore', 'Deoli, Delhi',\n",
       "       'Mulanthuruthy, Ernakulam', 'Sukhdev Vihar, Delhi', 'e',\n",
       "       'Kothamangalam, Ernakulam', 'Harlur, Bangalore',\n",
       "       'Bolarum, Hyderabad', 'Richards Town, Bangalore', 'Narela, Delhi',\n",
       "       'Nehru Place, Delhi', 'Ramanthapur, Hyderabad',\n",
       "       'Bali Nagar, Delhi', 'Palavakkam, Chennai', 'Balanagar, Hyderabad',\n",
       "       'Hyderguda, Hyderabad', 'Cherannagar, Coimbatore',\n",
       "       'Rohini Sector 11, Delhi', 'Dwarka Sector 4, Delhi',\n",
       "       'Palluruthy, Ernakulam', 'Vizhinjam, Thiruvananthapuram',\n",
       "       'Santacruz, Mumbai', 'Ganesh Nagar, Delhi',\n",
       "       'Vengal Rao Nagar, Hyderabad', 'Deonar, Mumbai',\n",
       "       'Edapally North, Ernakulam', 'Red Hills, Hyderabad',\n",
       "       'IDA Jeedimetla, Hyderabad', 'Mettupalayam, Coimbatore',\n",
       "       'Hayathnagar, Hyderabad', 'Kakkanad West, Ernakulam',\n",
       "       'Khajaguda, Hyderabad', 'Rohini Sector 5, Delhi',\n",
       "       'Saraswati Vihar, Delhi', 'Kingsway Camp, Delhi',\n",
       "       'Ramamangalam, Ernakulam', 'Indirapuram, Delhi',\n",
       "       'Parassala, Thiruvananthapuram', 'Connaught Place, Delhi',\n",
       "       'Gottigerre, Bangalore', 'Shivrampally, Hyderabad',\n",
       "       'Vyasarpadi, Chennai', 'Kovaipudur, Coimbatore',\n",
       "       'Vallakkadavoo, Thiruvananthapuram', 'Kattupakkam, Chennai',\n",
       "       'Nellimoodu, Thiruvananthapuram', 'Pondy Bazaar, Chennai',\n",
       "       'Prashant Vihar, Delhi', 'Chullickal, Ernakulam',\n",
       "       'Murugeshpalya, Bangalore', 'Khanpur, Delhi',\n",
       "       'Madiwala, Bangalore', 'Dwarka Sector 23, Delhi',\n",
       "       'Badarpur, Delhi', 'Peyad, Thiruvananthapuram',\n",
       "       'Gandhi Nagar, Chennai', 'Uday Park, Delhi',\n",
       "       'Bandlaguda, Hyderabad', 'Karukappilli, Ernakulam',\n",
       "       'Rana Pratap Bagh, Delhi', 'Kochi M.G.Road, Ernakulam',\n",
       "       'Gopalapuram, Chennai', 'Puthenvelikkara, Ernakulam',\n",
       "       'Sowcarpet, Chennai', 'Chitlapakkam, Chennai',\n",
       "       'Malumichampatti, Coimbatore', 'Rohini Sector 8, Delhi',\n",
       "       'Rohini Sector 2, Delhi', 'Ram Nagar, Hyderabad',\n",
       "       'Dwarka Sector 10, Delhi', 'Agaram, Chennai',\n",
       "       'Poovachal, Thiruvananthapuram', 'Shanti Niketan, Delhi',\n",
       "       'Pothencode, Thiruvananthapuram', 'Dickenson Road, Bangalore',\n",
       "       'RTC X Road, Hyderabad', 'Film Nagar, Hyderabad',\n",
       "       'Lodhi Colony, Delhi', 'SG Palya (Kormangla), Bangalore',\n",
       "       'Palkulangara, Thiruvananthapuram', 'Mahalingapuram, Chennai',\n",
       "       'Matunga West, Mumbai', 'Nettoor, Ernakulam', 'Rani Khera, Delhi',\n",
       "       'Beeramguda, Hyderabad', 'Ramachandrapuram, Hyderabad',\n",
       "       'Neyyattinkara Town, Thiruvananthapuram', 'Gorai, Mumbai',\n",
       "       'Jayanagar 3 Block, Bangalore', 'Shakti Nagar, Delhi',\n",
       "       'Sangam Vihar, Delhi', 'Shakurpur, Delhi',\n",
       "       'Chaitanyapuri, Hyderabad', 'TVM Fort, Thiruvananthapuram',\n",
       "       'JP Nagar 4 Phase, Bangalore', 'Nayandahalli, Bangalore',\n",
       "       'Valiathura, Thiruvananthapuram', 'Kowdiar, Thiruvananthapuram',\n",
       "       'Cunningham Road, Bangalore', 'Hennur, Bangalore',\n",
       "       'Peenya, Bangalore', 'Pattimattam, Ernakulam', 'HAL, Bangalore'],\n",
       "      dtype=object)"
      ]
     },
     "execution_count": 51,
     "metadata": {},
     "output_type": "execute_result"
    }
   ],
   "source": [
    "df.Place.unique()"
   ]
  },
  {
   "cell_type": "code",
   "execution_count": 52,
   "metadata": {},
   "outputs": [
    {
     "data": {
      "text/html": [
       "<div>\n",
       "<style scoped>\n",
       "    .dataframe tbody tr th:only-of-type {\n",
       "        vertical-align: middle;\n",
       "    }\n",
       "\n",
       "    .dataframe tbody tr th {\n",
       "        vertical-align: top;\n",
       "    }\n",
       "\n",
       "    .dataframe thead th {\n",
       "        text-align: right;\n",
       "    }\n",
       "</style>\n",
       "<table border=\"1\" class=\"dataframe\">\n",
       "  <thead>\n",
       "    <tr style=\"text-align: right;\">\n",
       "      <th></th>\n",
       "      <th>Qualification</th>\n",
       "      <th>Experience</th>\n",
       "      <th>Rating</th>\n",
       "      <th>Place</th>\n",
       "      <th>Profile</th>\n",
       "      <th>Miscellaneous_Info</th>\n",
       "    </tr>\n",
       "  </thead>\n",
       "  <tbody>\n",
       "    <tr>\n",
       "      <th>0</th>\n",
       "      <td>401</td>\n",
       "      <td>24 years experience</td>\n",
       "      <td>100%</td>\n",
       "      <td>Kakkanad, Ernakulam</td>\n",
       "      <td>Homeopath</td>\n",
       "      <td>100% 16 Feedback Kakkanad, Ernakulam</td>\n",
       "    </tr>\n",
       "    <tr>\n",
       "      <th>1</th>\n",
       "      <td>73</td>\n",
       "      <td>12 years experience</td>\n",
       "      <td>98%</td>\n",
       "      <td>Whitefield, Bangalore</td>\n",
       "      <td>Ayurveda</td>\n",
       "      <td>98% 76 Feedback Whitefield, Bangalore</td>\n",
       "    </tr>\n",
       "    <tr>\n",
       "      <th>2</th>\n",
       "      <td>1135</td>\n",
       "      <td>9 years experience</td>\n",
       "      <td>NaN</td>\n",
       "      <td>Mathikere - BEL, Bangalore</td>\n",
       "      <td>ENT Specialist</td>\n",
       "      <td>NaN</td>\n",
       "    </tr>\n",
       "    <tr>\n",
       "      <th>3</th>\n",
       "      <td>464</td>\n",
       "      <td>12 years experience</td>\n",
       "      <td>NaN</td>\n",
       "      <td>Bannerghatta Road, Bangalore</td>\n",
       "      <td>Ayurveda</td>\n",
       "      <td>Bannerghatta Road, Bangalore ₹250 Available on...</td>\n",
       "    </tr>\n",
       "    <tr>\n",
       "      <th>4</th>\n",
       "      <td>10</td>\n",
       "      <td>20 years experience</td>\n",
       "      <td>100%</td>\n",
       "      <td>Keelkattalai, Chennai</td>\n",
       "      <td>Ayurveda</td>\n",
       "      <td>100% 4 Feedback Keelkattalai, Chennai</td>\n",
       "    </tr>\n",
       "  </tbody>\n",
       "</table>\n",
       "</div>"
      ],
      "text/plain": [
       "   Qualification           Experience Rating                         Place  \\\n",
       "0            401  24 years experience   100%           Kakkanad, Ernakulam   \n",
       "1             73  12 years experience    98%         Whitefield, Bangalore   \n",
       "2           1135   9 years experience    NaN    Mathikere - BEL, Bangalore   \n",
       "3            464  12 years experience    NaN  Bannerghatta Road, Bangalore   \n",
       "4             10  20 years experience   100%         Keelkattalai, Chennai   \n",
       "\n",
       "          Profile                                 Miscellaneous_Info  \n",
       "0       Homeopath               100% 16 Feedback Kakkanad, Ernakulam  \n",
       "1        Ayurveda              98% 76 Feedback Whitefield, Bangalore  \n",
       "2  ENT Specialist                                                NaN  \n",
       "3        Ayurveda  Bannerghatta Road, Bangalore ₹250 Available on...  \n",
       "4        Ayurveda              100% 4 Feedback Keelkattalai, Chennai  "
      ]
     },
     "execution_count": 52,
     "metadata": {},
     "output_type": "execute_result"
    }
   ],
   "source": [
    "df.head()"
   ]
  },
  {
   "cell_type": "code",
   "execution_count": 53,
   "metadata": {},
   "outputs": [],
   "source": [
    "from sklearn.preprocessing import LabelEncoder\n",
    "LE=LabelEncoder()\n",
    "df['Profile']=LE.fit_transform(df['Profile'])\n"
   ]
  },
  {
   "cell_type": "code",
   "execution_count": 54,
   "metadata": {},
   "outputs": [
    {
     "data": {
      "text/plain": [
       "array([5, 0, 3, 1, 4, 2])"
      ]
     },
     "execution_count": 54,
     "metadata": {},
     "output_type": "execute_result"
    }
   ],
   "source": [
    "df.Profile.unique()"
   ]
  },
  {
   "cell_type": "code",
   "execution_count": 55,
   "metadata": {},
   "outputs": [
    {
     "data": {
      "text/html": [
       "<div>\n",
       "<style scoped>\n",
       "    .dataframe tbody tr th:only-of-type {\n",
       "        vertical-align: middle;\n",
       "    }\n",
       "\n",
       "    .dataframe tbody tr th {\n",
       "        vertical-align: top;\n",
       "    }\n",
       "\n",
       "    .dataframe thead th {\n",
       "        text-align: right;\n",
       "    }\n",
       "</style>\n",
       "<table border=\"1\" class=\"dataframe\">\n",
       "  <thead>\n",
       "    <tr style=\"text-align: right;\">\n",
       "      <th></th>\n",
       "      <th>Qualification</th>\n",
       "      <th>Experience</th>\n",
       "      <th>Rating</th>\n",
       "      <th>Place</th>\n",
       "      <th>Profile</th>\n",
       "      <th>Miscellaneous_Info</th>\n",
       "    </tr>\n",
       "  </thead>\n",
       "  <tbody>\n",
       "    <tr>\n",
       "      <th>0</th>\n",
       "      <td>401</td>\n",
       "      <td>24 years experience</td>\n",
       "      <td>100%</td>\n",
       "      <td>Kakkanad, Ernakulam</td>\n",
       "      <td>5</td>\n",
       "      <td>100% 16 Feedback Kakkanad, Ernakulam</td>\n",
       "    </tr>\n",
       "    <tr>\n",
       "      <th>1</th>\n",
       "      <td>73</td>\n",
       "      <td>12 years experience</td>\n",
       "      <td>98%</td>\n",
       "      <td>Whitefield, Bangalore</td>\n",
       "      <td>0</td>\n",
       "      <td>98% 76 Feedback Whitefield, Bangalore</td>\n",
       "    </tr>\n",
       "    <tr>\n",
       "      <th>2</th>\n",
       "      <td>1135</td>\n",
       "      <td>9 years experience</td>\n",
       "      <td>NaN</td>\n",
       "      <td>Mathikere - BEL, Bangalore</td>\n",
       "      <td>3</td>\n",
       "      <td>NaN</td>\n",
       "    </tr>\n",
       "    <tr>\n",
       "      <th>3</th>\n",
       "      <td>464</td>\n",
       "      <td>12 years experience</td>\n",
       "      <td>NaN</td>\n",
       "      <td>Bannerghatta Road, Bangalore</td>\n",
       "      <td>0</td>\n",
       "      <td>Bannerghatta Road, Bangalore ₹250 Available on...</td>\n",
       "    </tr>\n",
       "    <tr>\n",
       "      <th>4</th>\n",
       "      <td>10</td>\n",
       "      <td>20 years experience</td>\n",
       "      <td>100%</td>\n",
       "      <td>Keelkattalai, Chennai</td>\n",
       "      <td>0</td>\n",
       "      <td>100% 4 Feedback Keelkattalai, Chennai</td>\n",
       "    </tr>\n",
       "  </tbody>\n",
       "</table>\n",
       "</div>"
      ],
      "text/plain": [
       "   Qualification           Experience Rating                         Place  \\\n",
       "0            401  24 years experience   100%           Kakkanad, Ernakulam   \n",
       "1             73  12 years experience    98%         Whitefield, Bangalore   \n",
       "2           1135   9 years experience    NaN    Mathikere - BEL, Bangalore   \n",
       "3            464  12 years experience    NaN  Bannerghatta Road, Bangalore   \n",
       "4             10  20 years experience   100%         Keelkattalai, Chennai   \n",
       "\n",
       "   Profile                                 Miscellaneous_Info  \n",
       "0        5               100% 16 Feedback Kakkanad, Ernakulam  \n",
       "1        0              98% 76 Feedback Whitefield, Bangalore  \n",
       "2        3                                                NaN  \n",
       "3        0  Bannerghatta Road, Bangalore ₹250 Available on...  \n",
       "4        0              100% 4 Feedback Keelkattalai, Chennai  "
      ]
     },
     "execution_count": 55,
     "metadata": {},
     "output_type": "execute_result"
    }
   ],
   "source": [
    "df.head()"
   ]
  },
  {
   "cell_type": "code",
   "execution_count": 56,
   "metadata": {},
   "outputs": [],
   "source": [
    "from sklearn.preprocessing import LabelEncoder\n",
    "LE=LabelEncoder()\n",
    "df['Experience']=LE.fit_transform(df['Experience'])\n"
   ]
  },
  {
   "cell_type": "code",
   "execution_count": 57,
   "metadata": {},
   "outputs": [
    {
     "data": {
      "text/plain": [
       "array([16,  3, 63, 12, 62, 36,  1,  5, 15, 44, 61, 13, 10, 35, 24, 17,  7,\n",
       "        6,  2, 14, 31, 55, 29,  4,  9, 40, 34, 43, 26,  0, 19, 23, 47, 56,\n",
       "       18, 28, 27, 32, 25,  8, 20, 53, 33, 39, 38, 22, 30, 45, 21, 37, 49,\n",
       "       60, 11, 46, 41, 42, 48, 51, 57, 54, 52, 50, 59, 58])"
      ]
     },
     "execution_count": 57,
     "metadata": {},
     "output_type": "execute_result"
    }
   ],
   "source": [
    "df.Experience.unique()"
   ]
  },
  {
   "cell_type": "code",
   "execution_count": 58,
   "metadata": {},
   "outputs": [
    {
     "data": {
      "text/html": [
       "<div>\n",
       "<style scoped>\n",
       "    .dataframe tbody tr th:only-of-type {\n",
       "        vertical-align: middle;\n",
       "    }\n",
       "\n",
       "    .dataframe tbody tr th {\n",
       "        vertical-align: top;\n",
       "    }\n",
       "\n",
       "    .dataframe thead th {\n",
       "        text-align: right;\n",
       "    }\n",
       "</style>\n",
       "<table border=\"1\" class=\"dataframe\">\n",
       "  <thead>\n",
       "    <tr style=\"text-align: right;\">\n",
       "      <th></th>\n",
       "      <th>Qualification</th>\n",
       "      <th>Experience</th>\n",
       "      <th>Rating</th>\n",
       "      <th>Place</th>\n",
       "      <th>Profile</th>\n",
       "      <th>Miscellaneous_Info</th>\n",
       "    </tr>\n",
       "  </thead>\n",
       "  <tbody>\n",
       "    <tr>\n",
       "      <th>0</th>\n",
       "      <td>401</td>\n",
       "      <td>16</td>\n",
       "      <td>100%</td>\n",
       "      <td>Kakkanad, Ernakulam</td>\n",
       "      <td>5</td>\n",
       "      <td>100% 16 Feedback Kakkanad, Ernakulam</td>\n",
       "    </tr>\n",
       "    <tr>\n",
       "      <th>1</th>\n",
       "      <td>73</td>\n",
       "      <td>3</td>\n",
       "      <td>98%</td>\n",
       "      <td>Whitefield, Bangalore</td>\n",
       "      <td>0</td>\n",
       "      <td>98% 76 Feedback Whitefield, Bangalore</td>\n",
       "    </tr>\n",
       "    <tr>\n",
       "      <th>2</th>\n",
       "      <td>1135</td>\n",
       "      <td>63</td>\n",
       "      <td>NaN</td>\n",
       "      <td>Mathikere - BEL, Bangalore</td>\n",
       "      <td>3</td>\n",
       "      <td>NaN</td>\n",
       "    </tr>\n",
       "    <tr>\n",
       "      <th>3</th>\n",
       "      <td>464</td>\n",
       "      <td>3</td>\n",
       "      <td>NaN</td>\n",
       "      <td>Bannerghatta Road, Bangalore</td>\n",
       "      <td>0</td>\n",
       "      <td>Bannerghatta Road, Bangalore ₹250 Available on...</td>\n",
       "    </tr>\n",
       "    <tr>\n",
       "      <th>4</th>\n",
       "      <td>10</td>\n",
       "      <td>12</td>\n",
       "      <td>100%</td>\n",
       "      <td>Keelkattalai, Chennai</td>\n",
       "      <td>0</td>\n",
       "      <td>100% 4 Feedback Keelkattalai, Chennai</td>\n",
       "    </tr>\n",
       "  </tbody>\n",
       "</table>\n",
       "</div>"
      ],
      "text/plain": [
       "   Qualification  Experience Rating                         Place  Profile  \\\n",
       "0            401          16   100%           Kakkanad, Ernakulam        5   \n",
       "1             73           3    98%         Whitefield, Bangalore        0   \n",
       "2           1135          63    NaN    Mathikere - BEL, Bangalore        3   \n",
       "3            464           3    NaN  Bannerghatta Road, Bangalore        0   \n",
       "4             10          12   100%         Keelkattalai, Chennai        0   \n",
       "\n",
       "                                  Miscellaneous_Info  \n",
       "0               100% 16 Feedback Kakkanad, Ernakulam  \n",
       "1              98% 76 Feedback Whitefield, Bangalore  \n",
       "2                                                NaN  \n",
       "3  Bannerghatta Road, Bangalore ₹250 Available on...  \n",
       "4              100% 4 Feedback Keelkattalai, Chennai  "
      ]
     },
     "execution_count": 58,
     "metadata": {},
     "output_type": "execute_result"
    }
   ],
   "source": [
    "df.head()"
   ]
  },
  {
   "cell_type": "code",
   "execution_count": 59,
   "metadata": {},
   "outputs": [],
   "source": [
    "from sklearn.preprocessing import LabelEncoder\n",
    "LE=LabelEncoder()\n",
    "df['Rating']=df['Rating'].replace({0 and 1})\n"
   ]
  },
  {
   "cell_type": "code",
   "execution_count": 60,
   "metadata": {},
   "outputs": [
    {
     "data": {
      "text/plain": [
       "array(['100%', '98%', nan, '99%', '79%', '95%', '97%', '94%', '88%',\n",
       "       '90%', '80%', '93%', '36%', '78%', '87%', '96%', '82%', '89%',\n",
       "       '74%', '86%', '92%', '83%', '76%', '85%', '56%', '91%', '68%',\n",
       "       '60%', '75%', '69%', '73%', '67%', '77%', '33%', '55%', '71%',\n",
       "       '84%', '45%', '63%', '72%', '81%', '62%', '57%', '7%', '48%',\n",
       "       '40%', '70%', '64%', '65%', '47%', '58%', '53%'], dtype=object)"
      ]
     },
     "execution_count": 60,
     "metadata": {},
     "output_type": "execute_result"
    }
   ],
   "source": [
    "df.Rating.unique()"
   ]
  },
  {
   "cell_type": "code",
   "execution_count": 61,
   "metadata": {},
   "outputs": [
    {
     "data": {
      "text/html": [
       "<div>\n",
       "<style scoped>\n",
       "    .dataframe tbody tr th:only-of-type {\n",
       "        vertical-align: middle;\n",
       "    }\n",
       "\n",
       "    .dataframe tbody tr th {\n",
       "        vertical-align: top;\n",
       "    }\n",
       "\n",
       "    .dataframe thead th {\n",
       "        text-align: right;\n",
       "    }\n",
       "</style>\n",
       "<table border=\"1\" class=\"dataframe\">\n",
       "  <thead>\n",
       "    <tr style=\"text-align: right;\">\n",
       "      <th></th>\n",
       "      <th>Qualification</th>\n",
       "      <th>Experience</th>\n",
       "      <th>Rating</th>\n",
       "      <th>Place</th>\n",
       "      <th>Profile</th>\n",
       "      <th>Miscellaneous_Info</th>\n",
       "    </tr>\n",
       "  </thead>\n",
       "  <tbody>\n",
       "    <tr>\n",
       "      <th>0</th>\n",
       "      <td>401</td>\n",
       "      <td>16</td>\n",
       "      <td>100%</td>\n",
       "      <td>Kakkanad, Ernakulam</td>\n",
       "      <td>5</td>\n",
       "      <td>100% 16 Feedback Kakkanad, Ernakulam</td>\n",
       "    </tr>\n",
       "    <tr>\n",
       "      <th>1</th>\n",
       "      <td>73</td>\n",
       "      <td>3</td>\n",
       "      <td>98%</td>\n",
       "      <td>Whitefield, Bangalore</td>\n",
       "      <td>0</td>\n",
       "      <td>98% 76 Feedback Whitefield, Bangalore</td>\n",
       "    </tr>\n",
       "    <tr>\n",
       "      <th>2</th>\n",
       "      <td>1135</td>\n",
       "      <td>63</td>\n",
       "      <td>NaN</td>\n",
       "      <td>Mathikere - BEL, Bangalore</td>\n",
       "      <td>3</td>\n",
       "      <td>NaN</td>\n",
       "    </tr>\n",
       "    <tr>\n",
       "      <th>3</th>\n",
       "      <td>464</td>\n",
       "      <td>3</td>\n",
       "      <td>NaN</td>\n",
       "      <td>Bannerghatta Road, Bangalore</td>\n",
       "      <td>0</td>\n",
       "      <td>Bannerghatta Road, Bangalore ₹250 Available on...</td>\n",
       "    </tr>\n",
       "    <tr>\n",
       "      <th>4</th>\n",
       "      <td>10</td>\n",
       "      <td>12</td>\n",
       "      <td>100%</td>\n",
       "      <td>Keelkattalai, Chennai</td>\n",
       "      <td>0</td>\n",
       "      <td>100% 4 Feedback Keelkattalai, Chennai</td>\n",
       "    </tr>\n",
       "  </tbody>\n",
       "</table>\n",
       "</div>"
      ],
      "text/plain": [
       "   Qualification  Experience Rating                         Place  Profile  \\\n",
       "0            401          16   100%           Kakkanad, Ernakulam        5   \n",
       "1             73           3    98%         Whitefield, Bangalore        0   \n",
       "2           1135          63    NaN    Mathikere - BEL, Bangalore        3   \n",
       "3            464           3    NaN  Bannerghatta Road, Bangalore        0   \n",
       "4             10          12   100%         Keelkattalai, Chennai        0   \n",
       "\n",
       "                                  Miscellaneous_Info  \n",
       "0               100% 16 Feedback Kakkanad, Ernakulam  \n",
       "1              98% 76 Feedback Whitefield, Bangalore  \n",
       "2                                                NaN  \n",
       "3  Bannerghatta Road, Bangalore ₹250 Available on...  \n",
       "4              100% 4 Feedback Keelkattalai, Chennai  "
      ]
     },
     "execution_count": 61,
     "metadata": {},
     "output_type": "execute_result"
    }
   ],
   "source": [
    "df.head()"
   ]
  },
  {
   "cell_type": "code",
   "execution_count": 62,
   "metadata": {},
   "outputs": [
    {
     "data": {
      "text/plain": [
       "Index(['Qualification', 'Experience', 'Rating', 'Place', 'Profile',\n",
       "       'Miscellaneous_Info'],\n",
       "      dtype='object')"
      ]
     },
     "execution_count": 62,
     "metadata": {},
     "output_type": "execute_result"
    }
   ],
   "source": [
    "df.columns"
   ]
  },
  {
   "cell_type": "code",
   "execution_count": 63,
   "metadata": {},
   "outputs": [],
   "source": [
    "df.drop(['Rating','Place','Miscellaneous_Info'],axis=1,inplace=True)"
   ]
  },
  {
   "cell_type": "code",
   "execution_count": 64,
   "metadata": {},
   "outputs": [
    {
     "data": {
      "text/html": [
       "<div>\n",
       "<style scoped>\n",
       "    .dataframe tbody tr th:only-of-type {\n",
       "        vertical-align: middle;\n",
       "    }\n",
       "\n",
       "    .dataframe tbody tr th {\n",
       "        vertical-align: top;\n",
       "    }\n",
       "\n",
       "    .dataframe thead th {\n",
       "        text-align: right;\n",
       "    }\n",
       "</style>\n",
       "<table border=\"1\" class=\"dataframe\">\n",
       "  <thead>\n",
       "    <tr style=\"text-align: right;\">\n",
       "      <th></th>\n",
       "      <th>Qualification</th>\n",
       "      <th>Experience</th>\n",
       "      <th>Profile</th>\n",
       "    </tr>\n",
       "  </thead>\n",
       "  <tbody>\n",
       "    <tr>\n",
       "      <th>0</th>\n",
       "      <td>401</td>\n",
       "      <td>16</td>\n",
       "      <td>5</td>\n",
       "    </tr>\n",
       "    <tr>\n",
       "      <th>1</th>\n",
       "      <td>73</td>\n",
       "      <td>3</td>\n",
       "      <td>0</td>\n",
       "    </tr>\n",
       "    <tr>\n",
       "      <th>2</th>\n",
       "      <td>1135</td>\n",
       "      <td>63</td>\n",
       "      <td>3</td>\n",
       "    </tr>\n",
       "    <tr>\n",
       "      <th>3</th>\n",
       "      <td>464</td>\n",
       "      <td>3</td>\n",
       "      <td>0</td>\n",
       "    </tr>\n",
       "    <tr>\n",
       "      <th>4</th>\n",
       "      <td>10</td>\n",
       "      <td>12</td>\n",
       "      <td>0</td>\n",
       "    </tr>\n",
       "  </tbody>\n",
       "</table>\n",
       "</div>"
      ],
      "text/plain": [
       "   Qualification  Experience  Profile\n",
       "0            401          16        5\n",
       "1             73           3        0\n",
       "2           1135          63        3\n",
       "3            464           3        0\n",
       "4             10          12        0"
      ]
     },
     "execution_count": 64,
     "metadata": {},
     "output_type": "execute_result"
    }
   ],
   "source": [
    "df.head()"
   ]
  },
  {
   "cell_type": "markdown",
   "metadata": {},
   "source": [
    "# Missing Value Handling Method"
   ]
  },
  {
   "cell_type": "code",
   "execution_count": 65,
   "metadata": {},
   "outputs": [
    {
     "data": {
      "text/plain": [
       "Qualification    0\n",
       "Experience       0\n",
       "Profile          0\n",
       "dtype: int64"
      ]
     },
     "execution_count": 65,
     "metadata": {},
     "output_type": "execute_result"
    }
   ],
   "source": [
    "df.isnull().sum()"
   ]
  },
  {
   "cell_type": "markdown",
   "metadata": {},
   "source": [
    "Dataset contains all sum values will be zero"
   ]
  },
  {
   "cell_type": "code",
   "execution_count": 66,
   "metadata": {},
   "outputs": [],
   "source": [
    "df[\"Qualification\"]=df[\"Qualification\"].fillna(df[\"Qualification\"].mean())\n",
    "df[\"Profile\"]=df[\"Profile\"].fillna(df[\"Profile\"].median())\n"
   ]
  },
  {
   "cell_type": "code",
   "execution_count": 67,
   "metadata": {},
   "outputs": [
    {
     "data": {
      "text/plain": [
       "Qualification    0.239720\n",
       "Experience       0.823531\n",
       "Profile          0.108803\n",
       "dtype: float64"
      ]
     },
     "execution_count": 67,
     "metadata": {},
     "output_type": "execute_result"
    }
   ],
   "source": [
    "df.skew()"
   ]
  },
  {
   "cell_type": "markdown",
   "metadata": {},
   "source": [
    "Dataset contains skew values"
   ]
  },
  {
   "cell_type": "markdown",
   "metadata": {},
   "source": [
    "# Removing The Outliers"
   ]
  },
  {
   "cell_type": "code",
   "execution_count": 68,
   "metadata": {},
   "outputs": [
    {
     "data": {
      "text/plain": [
       "array([[0.47330574, 0.33488263, 1.54301587],\n",
       "       [1.26594438, 0.95584022, 1.47289258],\n",
       "       [1.30046489, 1.91011789, 0.33665249],\n",
       "       ...,\n",
       "       [0.0020724 , 0.57267077, 0.93983418],\n",
       "       [0.83648129, 0.81254231, 0.93983418],\n",
       "       [0.85512557, 0.71701038, 0.86971089]])"
      ]
     },
     "execution_count": 68,
     "metadata": {},
     "output_type": "execute_result"
    }
   ],
   "source": [
    "from scipy.stats import zscore\n",
    "z=np.abs(zscore(df))\n",
    "z"
   ]
  },
  {
   "cell_type": "markdown",
   "metadata": {},
   "source": [
    "Here Removing the otliers of df"
   ]
  },
  {
   "cell_type": "code",
   "execution_count": 69,
   "metadata": {},
   "outputs": [
    {
     "name": "stdout",
     "output_type": "stream",
     "text": [
      "(array([], dtype=int64), array([], dtype=int64))\n"
     ]
    }
   ],
   "source": [
    "threshold=3\n",
    "print(np.where(z>3))"
   ]
  },
  {
   "cell_type": "code",
   "execution_count": 70,
   "metadata": {},
   "outputs": [
    {
     "data": {
      "text/html": [
       "<div>\n",
       "<style scoped>\n",
       "    .dataframe tbody tr th:only-of-type {\n",
       "        vertical-align: middle;\n",
       "    }\n",
       "\n",
       "    .dataframe tbody tr th {\n",
       "        vertical-align: top;\n",
       "    }\n",
       "\n",
       "    .dataframe thead th {\n",
       "        text-align: right;\n",
       "    }\n",
       "</style>\n",
       "<table border=\"1\" class=\"dataframe\">\n",
       "  <thead>\n",
       "    <tr style=\"text-align: right;\">\n",
       "      <th></th>\n",
       "      <th>Qualification</th>\n",
       "      <th>Experience</th>\n",
       "      <th>Profile</th>\n",
       "    </tr>\n",
       "  </thead>\n",
       "  <tbody>\n",
       "    <tr>\n",
       "      <th>0</th>\n",
       "      <td>401</td>\n",
       "      <td>16</td>\n",
       "      <td>5</td>\n",
       "    </tr>\n",
       "    <tr>\n",
       "      <th>1</th>\n",
       "      <td>73</td>\n",
       "      <td>3</td>\n",
       "      <td>0</td>\n",
       "    </tr>\n",
       "    <tr>\n",
       "      <th>2</th>\n",
       "      <td>1135</td>\n",
       "      <td>63</td>\n",
       "      <td>3</td>\n",
       "    </tr>\n",
       "    <tr>\n",
       "      <th>3</th>\n",
       "      <td>464</td>\n",
       "      <td>3</td>\n",
       "      <td>0</td>\n",
       "    </tr>\n",
       "    <tr>\n",
       "      <th>4</th>\n",
       "      <td>10</td>\n",
       "      <td>12</td>\n",
       "      <td>0</td>\n",
       "    </tr>\n",
       "    <tr>\n",
       "      <th>...</th>\n",
       "      <td>...</td>\n",
       "      <td>...</td>\n",
       "      <td>...</td>\n",
       "    </tr>\n",
       "    <tr>\n",
       "      <th>5956</th>\n",
       "      <td>1075</td>\n",
       "      <td>10</td>\n",
       "      <td>3</td>\n",
       "    </tr>\n",
       "    <tr>\n",
       "      <th>5957</th>\n",
       "      <td>596</td>\n",
       "      <td>26</td>\n",
       "      <td>4</td>\n",
       "    </tr>\n",
       "    <tr>\n",
       "      <th>5958</th>\n",
       "      <td>596</td>\n",
       "      <td>35</td>\n",
       "      <td>4</td>\n",
       "    </tr>\n",
       "    <tr>\n",
       "      <th>5959</th>\n",
       "      <td>943</td>\n",
       "      <td>6</td>\n",
       "      <td>4</td>\n",
       "    </tr>\n",
       "    <tr>\n",
       "      <th>5960</th>\n",
       "      <td>243</td>\n",
       "      <td>8</td>\n",
       "      <td>1</td>\n",
       "    </tr>\n",
       "  </tbody>\n",
       "</table>\n",
       "<p>5961 rows × 3 columns</p>\n",
       "</div>"
      ],
      "text/plain": [
       "      Qualification  Experience  Profile\n",
       "0               401          16        5\n",
       "1                73           3        0\n",
       "2              1135          63        3\n",
       "3               464           3        0\n",
       "4                10          12        0\n",
       "...             ...         ...      ...\n",
       "5956           1075          10        3\n",
       "5957            596          26        4\n",
       "5958            596          35        4\n",
       "5959            943           6        4\n",
       "5960            243           8        1\n",
       "\n",
       "[5961 rows x 3 columns]"
      ]
     },
     "execution_count": 70,
     "metadata": {},
     "output_type": "execute_result"
    }
   ],
   "source": [
    "df_new=df[(z<3).all(axis=1)]\n",
    "df_new"
   ]
  },
  {
   "cell_type": "markdown",
   "metadata": {},
   "source": [
    "Here new dataset contains 5961 rows and 3 columns"
   ]
  },
  {
   "cell_type": "code",
   "execution_count": 71,
   "metadata": {},
   "outputs": [
    {
     "data": {
      "text/plain": [
       "(5961, 3)"
      ]
     },
     "execution_count": 71,
     "metadata": {},
     "output_type": "execute_result"
    }
   ],
   "source": [
    "df.shape"
   ]
  },
  {
   "cell_type": "markdown",
   "metadata": {},
   "source": [
    "Dataset contains 5961 rows and 3 columns"
   ]
  },
  {
   "cell_type": "code",
   "execution_count": 72,
   "metadata": {},
   "outputs": [
    {
     "data": {
      "text/plain": [
       "(5961, 3)"
      ]
     },
     "execution_count": 72,
     "metadata": {},
     "output_type": "execute_result"
    }
   ],
   "source": [
    "df_new.shape"
   ]
  },
  {
   "cell_type": "markdown",
   "metadata": {},
   "source": [
    "New Dataset contains 5961 rows and 3 columns"
   ]
  },
  {
   "cell_type": "markdown",
   "metadata": {},
   "source": [
    "# StandardScaler Method"
   ]
  },
  {
   "cell_type": "code",
   "execution_count": 73,
   "metadata": {},
   "outputs": [],
   "source": [
    "from sklearn.preprocessing import StandardScaler\n",
    "\n",
    "scaler = StandardScaler()\n",
    "scaledX = scaler.fit_transform(df)"
   ]
  },
  {
   "cell_type": "code",
   "execution_count": 74,
   "metadata": {},
   "outputs": [
    {
     "data": {
      "text/plain": [
       "array([[-0.47330574, -0.33488263,  1.54301587],\n",
       "       [-1.26594438, -0.95584022, -1.47289258],\n",
       "       [ 1.30046489,  1.91011789,  0.33665249],\n",
       "       ...,\n",
       "       [-0.0020724 ,  0.57267077,  0.93983418],\n",
       "       [ 0.83648129, -0.81254231,  0.93983418],\n",
       "       [-0.85512557, -0.71701038, -0.86971089]])"
      ]
     },
     "execution_count": 74,
     "metadata": {},
     "output_type": "execute_result"
    }
   ],
   "source": [
    "scaledX"
   ]
  },
  {
   "cell_type": "markdown",
   "metadata": {},
   "source": [
    "Here standardscaler contains scaledX values"
   ]
  },
  {
   "cell_type": "code",
   "execution_count": 75,
   "metadata": {},
   "outputs": [],
   "source": [
    "from sklearn.decomposition import PCA\n",
    "\n",
    "testpca = PCA()\n",
    "Y = testpca.fit(scaledX)"
   ]
  },
  {
   "cell_type": "code",
   "execution_count": 76,
   "metadata": {},
   "outputs": [
    {
     "data": {
      "text/plain": [
       "array([0.46474034, 0.33351649, 0.20174317])"
      ]
     },
     "execution_count": 76,
     "metadata": {},
     "output_type": "execute_result"
    }
   ],
   "source": [
    "Y.explained_variance_ratio_"
   ]
  },
  {
   "cell_type": "code",
   "execution_count": 77,
   "metadata": {},
   "outputs": [
    {
     "data": {
      "text/plain": [
       "array([ 46.47403412,  79.8256827 , 100.        ])"
      ]
     },
     "execution_count": 77,
     "metadata": {},
     "output_type": "execute_result"
    }
   ],
   "source": [
    "var_cumu = np.cumsum(Y.explained_variance_ratio_)*100\n",
    "var_cumu"
   ]
  },
  {
   "cell_type": "code",
   "execution_count": 78,
   "metadata": {},
   "outputs": [
    {
     "name": "stdout",
     "output_type": "stream",
     "text": [
      "Number of components explaining 99% variance: 2\n"
     ]
    }
   ],
   "source": [
    "k = np.argmax(var_cumu>99)\n",
    "print(\"Number of components explaining 99% variance:\",k)"
   ]
  },
  {
   "cell_type": "code",
   "execution_count": 79,
   "metadata": {},
   "outputs": [
    {
     "data": {
      "image/png": "[encoded data removed]",
      "text/plain": [
       "<Figure size 432x288 with 1 Axes>"
      ]
     },
     "metadata": {
      "needs_background": "light"
     },
     "output_type": "display_data"
    }
   ],
   "source": [
    "plt.ylabel('Cumulative Expalined varience')\n",
    "plt.xlabel('Principle components')\n",
    "plt.axvline(x=k, color=\"k\",linestyle=\"--\")\n",
    "plt.axhline(y=9, color=\"r\",linestyle=\"--\")\n",
    "\n",
    "plt.plot(var_cumu)\n",
    "plt.show()"
   ]
  },
  {
   "cell_type": "markdown",
   "metadata": {},
   "source": [
    "Here ylabel contains cumulative explained varience and xlabel contains principle components."
   ]
  },
  {
   "cell_type": "markdown",
   "metadata": {},
   "source": [
    "# Model Building"
   ]
  },
  {
   "cell_type": "code",
   "execution_count": 80,
   "metadata": {},
   "outputs": [],
   "source": [
    "x_train = df.drop(['Profile'],axis=1)\n",
    "y_train = df.Profile\n"
   ]
  },
  {
   "cell_type": "code",
   "execution_count": 81,
   "metadata": {},
   "outputs": [
    {
     "data": {
      "text/html": [
       "<div>\n",
       "<style scoped>\n",
       "    .dataframe tbody tr th:only-of-type {\n",
       "        vertical-align: middle;\n",
       "    }\n",
       "\n",
       "    .dataframe tbody tr th {\n",
       "        vertical-align: top;\n",
       "    }\n",
       "\n",
       "    .dataframe thead th {\n",
       "        text-align: right;\n",
       "    }\n",
       "</style>\n",
       "<table border=\"1\" class=\"dataframe\">\n",
       "  <thead>\n",
       "    <tr style=\"text-align: right;\">\n",
       "      <th></th>\n",
       "      <th>Qualification</th>\n",
       "      <th>Experience</th>\n",
       "    </tr>\n",
       "  </thead>\n",
       "  <tbody>\n",
       "    <tr>\n",
       "      <th>0</th>\n",
       "      <td>401</td>\n",
       "      <td>16</td>\n",
       "    </tr>\n",
       "    <tr>\n",
       "      <th>1</th>\n",
       "      <td>73</td>\n",
       "      <td>3</td>\n",
       "    </tr>\n",
       "    <tr>\n",
       "      <th>2</th>\n",
       "      <td>1135</td>\n",
       "      <td>63</td>\n",
       "    </tr>\n",
       "    <tr>\n",
       "      <th>3</th>\n",
       "      <td>464</td>\n",
       "      <td>3</td>\n",
       "    </tr>\n",
       "    <tr>\n",
       "      <th>4</th>\n",
       "      <td>10</td>\n",
       "      <td>12</td>\n",
       "    </tr>\n",
       "  </tbody>\n",
       "</table>\n",
       "</div>"
      ],
      "text/plain": [
       "   Qualification  Experience\n",
       "0            401          16\n",
       "1             73           3\n",
       "2           1135          63\n",
       "3            464           3\n",
       "4             10          12"
      ]
     },
     "execution_count": 81,
     "metadata": {},
     "output_type": "execute_result"
    }
   ],
   "source": [
    "x_train.head()"
   ]
  },
  {
   "cell_type": "markdown",
   "metadata": {},
   "source": [
    "Here x_train contains only qualification and experience"
   ]
  },
  {
   "cell_type": "code",
   "execution_count": 82,
   "metadata": {},
   "outputs": [
    {
     "data": {
      "text/plain": [
       "0    5\n",
       "1    0\n",
       "2    3\n",
       "3    0\n",
       "4    0\n",
       "Name: Profile, dtype: int32"
      ]
     },
     "execution_count": 82,
     "metadata": {},
     "output_type": "execute_result"
    }
   ],
   "source": [
    "y_train.head()"
   ]
  },
  {
   "cell_type": "markdown",
   "metadata": {},
   "source": [
    "y_train contains the name profile"
   ]
  },
  {
   "cell_type": "code",
   "execution_count": 83,
   "metadata": {},
   "outputs": [
    {
     "data": {
      "text/plain": [
       "(5961, 2)"
      ]
     },
     "execution_count": 83,
     "metadata": {},
     "output_type": "execute_result"
    }
   ],
   "source": [
    "x_train.shape"
   ]
  },
  {
   "cell_type": "markdown",
   "metadata": {},
   "source": [
    "Here x_train contains 5961 rows and 2 columns"
   ]
  },
  {
   "cell_type": "code",
   "execution_count": 84,
   "metadata": {},
   "outputs": [
    {
     "data": {
      "text/plain": [
       "(5961,)"
      ]
     },
     "execution_count": 84,
     "metadata": {},
     "output_type": "execute_result"
    }
   ],
   "source": [
    "y_train.shape"
   ]
  },
  {
   "cell_type": "markdown",
   "metadata": {},
   "source": [
    "Here y_train contains 5961 rows and zero columns"
   ]
  },
  {
   "cell_type": "markdown",
   "metadata": {},
   "source": [
    "# Regressor Methods"
   ]
  },
  {
   "cell_type": "code",
   "execution_count": 85,
   "metadata": {},
   "outputs": [],
   "source": [
    "from sklearn.model_selection import train_test_split\n",
    "\n",
    "from sklearn.metrics import accuracy_score"
   ]
  },
  {
   "cell_type": "code",
   "execution_count": 86,
   "metadata": {},
   "outputs": [],
   "source": [
    "x = df.drop(['Profile'],axis=1)\n",
    "y = df[\"Profile\"]\n",
    "x_train, x_test, y_train, y_test=train_test_split(x, y, random_state=0, test_size=0.2)"
   ]
  },
  {
   "cell_type": "code",
   "execution_count": 87,
   "metadata": {},
   "outputs": [
    {
     "name": "stdout",
     "output_type": "stream",
     "text": [
      "0.4080029045051263\n",
      "0.4495705069444311\n",
      "0.4723677999834039\n",
      "0.5151641496852164\n",
      "0.49572180287166323\n",
      "0.46728311532847977\n",
      "0.537570266767286\n",
      "0.5032240406517556\n",
      "0.45489218229426265\n",
      "0.44285102520087716\n",
      "0.4160546356491086\n",
      "0.4357847659559554\n",
      "0.4915339372471545\n",
      "0.4729031207531718\n",
      "0.45272747552732184\n",
      "0.4536217778470665\n",
      "0.4919822422225948\n",
      "0.4675368653431559\n",
      "0.46282571200771094\n",
      "0.44547682840896485\n",
      "0.4746986672532387\n",
      "0.47303162303876434\n",
      "0.41156589152739476\n",
      "0.4487608843318326\n",
      "0.40825697339547784\n",
      "0.3733075026482454\n",
      "0.4784188406952177\n",
      "0.4168812421216162\n",
      "0.3998324686991688\n",
      "0.4259512433137186\n",
      "0.4764842329743746\n",
      "0.5289363208415997\n",
      "0.43642702740044026\n",
      "0.4426172482475781\n",
      "0.45403823173360763\n",
      "0.3929169503291494\n",
      "0.4868644071951104\n",
      "0.49520532348416796\n",
      "0.4088411169991609\n",
      "0.5561505008176096\n",
      "0.46888732188429993\n",
      "0.4413889642889782\n",
      "0.4469050126230985\n",
      "0.46499937395873764\n",
      "0.4923473902912649\n",
      "0.35077406375074155\n",
      "0.48163899947153377\n",
      "0.47037553682821254\n",
      "0.4564936593508142\n",
      "0.44433318429747776\n",
      "0.47090159166380396\n",
      "0.43783898058638643\n",
      "0.4418150238223549\n",
      "0.48310042391105806\n",
      "0.47529455969668444\n",
      "0.3960707831181213\n",
      "0.4556878098584522\n",
      "0.4868116058837147\n",
      "0.49655378481249846\n",
      "0.4397255146299228\n",
      "0.4630392295403207\n",
      "0.4695657659233048\n",
      "0.42139189726764875\n",
      "0.4217864177724843\n",
      "0.45325381892090144\n",
      "0.5249356627256612\n",
      "0.5305695830935102\n",
      "0.4517755552070479\n",
      "0.480817753489705\n",
      "0.45850009838113465\n",
      "0.45461497938246065\n",
      "0.5051420489748846\n",
      "0.45898627520920454\n",
      "0.4719930472963376\n",
      "0.5423268750443148\n",
      "0.4488117506984332\n",
      "0.44263393652780925\n",
      "0.4281831190775244\n",
      "0.48023891486662024\n",
      "0.47886384877093147\n",
      "0.4906239402792852\n",
      "0.44360755789747097\n",
      "0.5170518362585017\n",
      "0.4152429999632607\n",
      "0.43763409519887836\n",
      "0.458926585832095\n",
      "0.5178931334586047\n",
      "0.47197111888953214\n",
      "0.4413783292444044\n",
      "0.4372120905023888\n",
      "0.4585308719928076\n",
      "0.39964558250452353\n",
      "0.4290988408995823\n",
      "0.41209216487489303\n",
      "0.5002787884490066\n",
      "0.4766333425449239\n",
      "0.4890509132837657\n",
      "0.488441996815973\n",
      "0.4562845752708778\n",
      "0.49401095317183147\n",
      "0.4348082928648993\n",
      "0.40881163837822904\n",
      "0.48628035669915254\n",
      "0.4465917354492353\n",
      "0.41045012742053516\n",
      "0.48976680953230434\n",
      "0.43520512798201777\n",
      "0.43665679983724376\n",
      "0.48808331745723665\n",
      "0.3738600265596301\n",
      "0.4558881454543189\n",
      "0.4570569187564365\n",
      "0.46751546921304127\n",
      "0.4831742307443013\n",
      "0.446157943840573\n",
      "0.4733807421838154\n",
      "0.4554184844019392\n",
      "0.4278338621349499\n",
      "0.471387196821113\n",
      "0.4441204828620388\n",
      "0.4404147410606511\n",
      "0.45466052316105565\n",
      "0.35990879116249663\n",
      "0.5132857152860969\n",
      "0.49761101761385623\n",
      "0.47024706236807484\n",
      "0.46710430411395726\n",
      "0.44914492388976246\n",
      "0.48700620991302135\n",
      "0.4819615160437133\n",
      "0.47844502688552204\n",
      "0.49437089643730864\n",
      "0.48809216038707487\n",
      "0.4485440357954108\n",
      "0.48110454177864614\n",
      "0.501928916327136\n",
      "0.5042952580847146\n",
      "0.45935493902333735\n",
      "0.4367353582114221\n",
      "0.43541407415853384\n",
      "0.4207133668868266\n",
      "0.4683219622748369\n",
      "0.49354173881115887\n",
      "0.4589935031110236\n",
      "0.47083920169281096\n",
      "0.5261548399319054\n",
      "0.45487471328904244\n",
      "0.49485132460055675\n",
      "0.34881278971805857\n",
      "0.4478413481667944\n",
      "0.45163222574558215\n",
      "0.4981955391716544\n",
      "0.45686912961617915\n",
      "0.46355563438685515\n",
      "0.4915467453555935\n",
      "0.39317747241597395\n",
      "0.47518112039155275\n",
      "0.448024461355248\n",
      "0.5105363148004075\n",
      "0.42881847253871197\n",
      "0.3952275568992221\n",
      "0.43480635831836506\n",
      "0.47326088712020714\n",
      "0.429004053183511\n",
      "0.5114530445121815\n",
      "0.45388762719654857\n",
      "0.4448766636185939\n",
      "0.4426172352440751\n",
      "0.4133509762870665\n",
      "0.44929477012573626\n",
      "0.4482780821075073\n",
      "0.4320479386668593\n",
      "0.4762055479967955\n",
      "0.4273271447684361\n",
      "0.48192286253669325\n",
      "0.4618989995689278\n",
      "0.4592710023984421\n",
      "0.4471146491664186\n",
      "0.40057345960092\n",
      "0.4569891538845487\n",
      "0.4491090592215275\n",
      "0.4938695115495642\n",
      "0.4372356082148495\n",
      "0.4722946843353022\n",
      "0.40382415010489636\n",
      "0.44774723005699946\n",
      "0.4448058379541442\n",
      "0.4580982623840169\n",
      "0.5050939805110014\n",
      "0.4573662697294692\n",
      "0.4312133169710227\n",
      "0.4754251843583189\n",
      "0.4304062184798463\n",
      "0.44961597395721214\n",
      "0.49783222297685525\n",
      "0.4772754429306393\n",
      "0.45014156590778875\n",
      "0.42956000605326966\n",
      "0.47384096013632904\n",
      "0.4637849717052447\n"
     ]
    }
   ],
   "source": [
    "from sklearn.metrics import mean_squared_error\n",
    "for i in range(200):\n",
    "    x_train, x_test, y_train, y_test = train_test_split(x, y, test_size=0.33, random_state=i)\n",
    "    from sklearn.tree import DecisionTreeRegressor\n",
    "    lm=DecisionTreeRegressor()\n",
    "    lm.fit(x_train,y_train)\n",
    "    y_pred=lm.predict(x_test)\n",
    "    mse=mean_squared_error(y_test,y_pred)\n",
    "    rmse = np.sqrt(mse)\n",
    "    print(rmse)"
   ]
  },
  {
   "cell_type": "code",
   "execution_count": 88,
   "metadata": {},
   "outputs": [
    {
     "data": {
      "text/plain": [
       "DecisionTreeRegressor()"
      ]
     },
     "execution_count": 88,
     "metadata": {},
     "output_type": "execute_result"
    }
   ],
   "source": [
    "from sklearn.tree import DecisionTreeRegressor\n",
    "regressor = DecisionTreeRegressor()\n",
    "regressor.fit(x_train,y_train)\n"
   ]
  },
  {
   "cell_type": "code",
   "execution_count": 89,
   "metadata": {},
   "outputs": [],
   "source": [
    "y_pred = regressor.predict(x_test)"
   ]
  },
  {
   "cell_type": "code",
   "execution_count": 90,
   "metadata": {},
   "outputs": [
    {
     "data": {
      "text/plain": [
       "array([4., 5., 5., ..., 3., 2., 0.])"
      ]
     },
     "execution_count": 90,
     "metadata": {},
     "output_type": "execute_result"
    }
   ],
   "source": [
    "y_pred"
   ]
  },
  {
   "cell_type": "code",
   "execution_count": 91,
   "metadata": {},
   "outputs": [
    {
     "data": {
      "text/plain": [
       "99.34"
      ]
     },
     "execution_count": 91,
     "metadata": {},
     "output_type": "execute_result"
    }
   ],
   "source": [
    "dt_accuracy = round(regressor.score(x_train,y_train)*100,2)\n",
    "dt_accuracy"
   ]
  },
  {
   "cell_type": "markdown",
   "metadata": {},
   "source": [
    "The Test Accuracy of DecisionTreeClassifier is 99.34"
   ]
  },
  {
   "cell_type": "code",
   "execution_count": 92,
   "metadata": {},
   "outputs": [
    {
     "data": {
      "text/plain": [
       "RandomForestRegressor()"
      ]
     },
     "execution_count": 92,
     "metadata": {},
     "output_type": "execute_result"
    }
   ],
   "source": [
    "from sklearn.ensemble import RandomForestRegressor\n",
    "regressor = RandomForestRegressor()\n",
    "regressor.fit(x_train,y_train)"
   ]
  },
  {
   "cell_type": "code",
   "execution_count": 93,
   "metadata": {},
   "outputs": [
    {
     "data": {
      "text/plain": [
       "array([4.  , 5.  , 5.  , ..., 3.  , 1.97, 0.  ])"
      ]
     },
     "execution_count": 93,
     "metadata": {},
     "output_type": "execute_result"
    }
   ],
   "source": [
    "y_pred = regressor.predict(x_test)\n",
    "y_pred"
   ]
  },
  {
   "cell_type": "code",
   "execution_count": 94,
   "metadata": {},
   "outputs": [
    {
     "data": {
      "text/plain": [
       "98.72"
      ]
     },
     "execution_count": 94,
     "metadata": {},
     "output_type": "execute_result"
    }
   ],
   "source": [
    "rf_accuracy = round(regressor.score(x_train,y_train)*100,2)\n",
    "rf_accuracy"
   ]
  },
  {
   "cell_type": "markdown",
   "metadata": {},
   "source": [
    "The Test Accuracy of RandomForestRegressor is 98.17"
   ]
  },
  {
   "cell_type": "code",
   "execution_count": 95,
   "metadata": {},
   "outputs": [
    {
     "data": {
      "text/plain": [
       "LinearRegression()"
      ]
     },
     "execution_count": 95,
     "metadata": {},
     "output_type": "execute_result"
    }
   ],
   "source": [
    "from sklearn.linear_model import LinearRegression\n",
    "regressor = LinearRegression()\n",
    "regressor.fit(x_train,y_train)"
   ]
  },
  {
   "cell_type": "code",
   "execution_count": 96,
   "metadata": {},
   "outputs": [
    {
     "data": {
      "text/plain": [
       "array([3.06056545, 2.05289608, 2.25327735, ..., 3.22292233, 2.1261312 ,\n",
       "       1.37184439])"
      ]
     },
     "execution_count": 96,
     "metadata": {},
     "output_type": "execute_result"
    }
   ],
   "source": [
    "y_pred = regressor.predict(x_test)\n",
    "y_pred"
   ]
  },
  {
   "cell_type": "code",
   "execution_count": 97,
   "metadata": {},
   "outputs": [
    {
     "data": {
      "text/plain": [
       "16.12"
      ]
     },
     "execution_count": 97,
     "metadata": {},
     "output_type": "execute_result"
    }
   ],
   "source": [
    "lr_accuracy = round(regressor.score(x_train,y_train)*100,2)\n",
    "lr_accuracy"
   ]
  },
  {
   "cell_type": "markdown",
   "metadata": {},
   "source": [
    "The Test Accuracy of LogisticRegression is 16.12"
   ]
  },
  {
   "cell_type": "code",
   "execution_count": 98,
   "metadata": {},
   "outputs": [
    {
     "data": {
      "text/plain": [
       "GaussianNB()"
      ]
     },
     "execution_count": 98,
     "metadata": {},
     "output_type": "execute_result"
    }
   ],
   "source": [
    "from sklearn.naive_bayes import GaussianNB\n",
    "regressor = GaussianNB()\n",
    "regressor.fit(x_train,y_train)"
   ]
  },
  {
   "cell_type": "code",
   "execution_count": 99,
   "metadata": {},
   "outputs": [
    {
     "data": {
      "text/plain": [
       "array([4, 1, 5, ..., 4, 1, 1])"
      ]
     },
     "execution_count": 99,
     "metadata": {},
     "output_type": "execute_result"
    }
   ],
   "source": [
    "y_pred = regressor.predict(x_test)\n",
    "y_pred"
   ]
  },
  {
   "cell_type": "code",
   "execution_count": 100,
   "metadata": {},
   "outputs": [
    {
     "data": {
      "text/plain": [
       "49.64"
      ]
     },
     "execution_count": 100,
     "metadata": {},
     "output_type": "execute_result"
    }
   ],
   "source": [
    "nb_accuracy = round(regressor.score(x_train,y_train)*100,2)\n",
    "nb_accuracy"
   ]
  },
  {
   "cell_type": "markdown",
   "metadata": {},
   "source": [
    "The Test Accuracy of GaussianNB is 49.64"
   ]
  },
  {
   "cell_type": "code",
   "execution_count": 101,
   "metadata": {},
   "outputs": [
    {
     "data": {
      "text/plain": [
       "SVR()"
      ]
     },
     "execution_count": 101,
     "metadata": {},
     "output_type": "execute_result"
    }
   ],
   "source": [
    "from sklearn.svm import SVR\n",
    "regressor = SVR()\n",
    "regressor.fit(x_train,y_train)"
   ]
  },
  {
   "cell_type": "code",
   "execution_count": 102,
   "metadata": {},
   "outputs": [
    {
     "data": {
      "text/plain": [
       "array([ 2.91479146,  3.73126217,  4.27927277, ...,  3.07786621,\n",
       "        4.30916402, -0.09593465])"
      ]
     },
     "execution_count": 102,
     "metadata": {},
     "output_type": "execute_result"
    }
   ],
   "source": [
    "y_pred = regressor.predict(x_test)\n",
    "y_pred"
   ]
  },
  {
   "cell_type": "code",
   "execution_count": 103,
   "metadata": {},
   "outputs": [
    {
     "data": {
      "text/plain": [
       "55.55"
      ]
     },
     "execution_count": 103,
     "metadata": {},
     "output_type": "execute_result"
    }
   ],
   "source": [
    "svm_accuracy = round(regressor.score(x_train,y_train)*100,2)\n",
    "svm_accuracy"
   ]
  },
  {
   "cell_type": "markdown",
   "metadata": {},
   "source": [
    "The Test Accuracy of SVR is 55.55"
   ]
  },
  {
   "cell_type": "code",
   "execution_count": 104,
   "metadata": {},
   "outputs": [
    {
     "data": {
      "text/plain": [
       "KNeighborsRegressor()"
      ]
     },
     "execution_count": 104,
     "metadata": {},
     "output_type": "execute_result"
    }
   ],
   "source": [
    "from sklearn.neighbors import KNeighborsRegressor\n",
    "regressor = KNeighborsRegressor()\n",
    "regressor.fit(x_train,y_train)\n"
   ]
  },
  {
   "cell_type": "code",
   "execution_count": 105,
   "metadata": {},
   "outputs": [
    {
     "data": {
      "text/plain": [
       "array([4., 5., 5., ..., 3., 2., 0.])"
      ]
     },
     "execution_count": 105,
     "metadata": {},
     "output_type": "execute_result"
    }
   ],
   "source": [
    "y_pred = regressor.predict(x_test)\n",
    "y_pred"
   ]
  },
  {
   "cell_type": "code",
   "execution_count": 106,
   "metadata": {},
   "outputs": [
    {
     "data": {
      "text/plain": [
       "94.01"
      ]
     },
     "execution_count": 106,
     "metadata": {},
     "output_type": "execute_result"
    }
   ],
   "source": [
    "knn_accuracy = round(regressor.score(x_train,y_train)*100,2)\n",
    "knn_accuracy"
   ]
  },
  {
   "cell_type": "markdown",
   "metadata": {},
   "source": [
    "The Test Accuracy of KNeighborsRegressor is 94.01"
   ]
  },
  {
   "cell_type": "markdown",
   "metadata": {},
   "source": [
    "# Cross Validation Methods"
   ]
  },
  {
   "cell_type": "code",
   "execution_count": 107,
   "metadata": {},
   "outputs": [],
   "source": [
    "from sklearn.model_selection import cross_val_score"
   ]
  },
  {
   "cell_type": "code",
   "execution_count": 108,
   "metadata": {},
   "outputs": [
    {
     "name": "stdout",
     "output_type": "stream",
     "text": [
      "0.9128006564596787\n"
     ]
    }
   ],
   "source": [
    "from sklearn.tree import DecisionTreeRegressor\n",
    "regressor = DecisionTreeRegressor()\n",
    "print(cross_val_score(regressor,x,y,cv=5).mean())"
   ]
  },
  {
   "cell_type": "code",
   "execution_count": 109,
   "metadata": {},
   "outputs": [
    {
     "name": "stdout",
     "output_type": "stream",
     "text": [
      "0.9417442438590052\n"
     ]
    }
   ],
   "source": [
    "from sklearn.ensemble import RandomForestRegressor\n",
    "regressor = RandomForestRegressor()\n",
    "print(cross_val_score(regressor,x,y,cv=5).mean())"
   ]
  },
  {
   "cell_type": "code",
   "execution_count": 110,
   "metadata": {},
   "outputs": [
    {
     "name": "stdout",
     "output_type": "stream",
     "text": [
      "0.5473041812694927\n"
     ]
    }
   ],
   "source": [
    "from sklearn.svm import SVR\n",
    "regressor = SVR()\n",
    "print(cross_val_score(regressor,x,y,cv=5).mean())"
   ]
  },
  {
   "cell_type": "code",
   "execution_count": 111,
   "metadata": {},
   "outputs": [
    {
     "name": "stdout",
     "output_type": "stream",
     "text": [
      "0.15382989281446524\n"
     ]
    }
   ],
   "source": [
    "from sklearn.linear_model import LinearRegression\n",
    "regressor = LinearRegression()\n",
    "print(cross_val_score(regressor,x,y,cv=5).mean())"
   ]
  },
  {
   "cell_type": "code",
   "execution_count": 112,
   "metadata": {},
   "outputs": [
    {
     "name": "stdout",
     "output_type": "stream",
     "text": [
      "0.9055473796420305\n"
     ]
    }
   ],
   "source": [
    "from sklearn.neighbors import KNeighborsRegressor\n",
    "regressor = KNeighborsRegressor()\n",
    "print(cross_val_score(regressor,x,y,cv=5).mean())"
   ]
  },
  {
   "cell_type": "code",
   "execution_count": 113,
   "metadata": {},
   "outputs": [
    {
     "name": "stdout",
     "output_type": "stream",
     "text": [
      "0.46183357054855784\n"
     ]
    }
   ],
   "source": [
    "from sklearn.naive_bayes import GaussianNB\n",
    "regressor = GaussianNB()\n",
    "print(cross_val_score(regressor,x,y,cv=5).mean())"
   ]
  },
  {
   "cell_type": "markdown",
   "metadata": {},
   "source": [
    "# Hyperparametr Tunnings"
   ]
  },
  {
   "cell_type": "code",
   "execution_count": 114,
   "metadata": {},
   "outputs": [],
   "source": [
    "from sklearn.model_selection import GridSearchCV"
   ]
  },
  {
   "cell_type": "code",
   "execution_count": 115,
   "metadata": {},
   "outputs": [],
   "source": [
    "parameter = {\"max_depth\":[1,3,5,7,9,11,12],\n",
    "             'criterion':['mse','friedman_mse']}"
   ]
  },
  {
   "cell_type": "code",
   "execution_count": 116,
   "metadata": {},
   "outputs": [],
   "source": [
    "GCV = GridSearchCV(DecisionTreeRegressor(),parameter,cv=5)"
   ]
  },
  {
   "cell_type": "code",
   "execution_count": 117,
   "metadata": {},
   "outputs": [
    {
     "data": {
      "text/plain": [
       "GridSearchCV(cv=5, estimator=DecisionTreeRegressor(),\n",
       "             param_grid={'criterion': ['mse', 'friedman_mse'],\n",
       "                         'max_depth': [1, 3, 5, 7, 9, 11, 12]})"
      ]
     },
     "execution_count": 117,
     "metadata": {},
     "output_type": "execute_result"
    }
   ],
   "source": [
    "GCV.fit(x_train,y_train)"
   ]
  },
  {
   "cell_type": "code",
   "execution_count": 118,
   "metadata": {},
   "outputs": [
    {
     "data": {
      "text/plain": [
       "{'criterion': 'mse', 'max_depth': 12}"
      ]
     },
     "execution_count": 118,
     "metadata": {},
     "output_type": "execute_result"
    }
   ],
   "source": [
    "GCV.best_params_"
   ]
  },
  {
   "cell_type": "markdown",
   "metadata": {},
   "source": [
    "# Final Model"
   ]
  },
  {
   "cell_type": "code",
   "execution_count": 119,
   "metadata": {},
   "outputs": [
    {
     "name": "stdout",
     "output_type": "stream",
     "text": [
      "92.35742892891359\n"
     ]
    }
   ],
   "source": [
    "from sklearn.tree import DecisionTreeRegressor\n",
    "regressor = DecisionTreeRegressor()\n",
    "regressor.fit(x_train,y_train)\n",
    "Final_mod = DecisionTreeRegressor()\n",
    "Final_mod.fit(x_train,y_train)\n",
    "pred = Final_mod.predict(x_test)\n",
    "print((regressor.score(x_test,y_test)*100))"
   ]
  },
  {
   "cell_type": "markdown",
   "metadata": {},
   "source": [
    "# Saving The Model"
   ]
  },
  {
   "cell_type": "code",
   "execution_count": 120,
   "metadata": {},
   "outputs": [
    {
     "data": {
      "text/plain": [
       "['FinalModle.pkl']"
      ]
     },
     "execution_count": 120,
     "metadata": {},
     "output_type": "execute_result"
    }
   ],
   "source": [
    "import joblib\n",
    "joblib.dump(Final_mod,\"FinalModle.pkl\")"
   ]
  },
  {
   "cell_type": "markdown",
   "metadata": {},
   "source": [
    "Here the saving model is finalmodel.pkl"
   ]
  },
  {
   "cell_type": "markdown",
   "metadata": {},
   "source": [
    "# Prediction Method"
   ]
  },
  {
   "cell_type": "code",
   "execution_count": 121,
   "metadata": {},
   "outputs": [
    {
     "name": "stdout",
     "output_type": "stream",
     "text": [
      "[4.         5.         5.         2.         2.         5.\n",
      " 1.         2.         0.         2.         2.         0.\n",
      " 2.         5.         0.         4.         2.         4.\n",
      " 5.         5.         4.         4.         3.71428571 2.\n",
      " 1.         0.         1.         3.         4.         0.\n",
      " 0.         2.         2.         1.         1.         1.        ]\n",
      "[4 5 5 2 2 5 1 2 0 2 2 0 2 5 0 4 2 4 5 5 4 4 4 2 1 0 1 3 4 0 0 2 2 1 1 1]\n"
     ]
    }
   ],
   "source": [
    "Final_mod = DecisionTreeRegressor()\n",
    "Final_mod.fit(x_train,y_train)\n",
    "pred = Final_mod.predict(x_test)\n",
    "preds = regressor.predict(x_test)\n",
    "print(preds[:36])\n",
    "print(y_test[:36].values)"
   ]
  },
  {
   "cell_type": "markdown",
   "metadata": {},
   "source": [
    "The train and test data is balanced most regressor methods hit the 92% accuracy with the datset."
   ]
  }
 ],
 "metadata": {
  "kernelspec": {
   "display_name": "Python 3",
   "language": "python",
   "name": "python3"
  },
  "language_info": {
   "codemirror_mode": {
    "name": "ipython",
    "version": 3
   },
   "file_extension": ".py",
   "mimetype": "text/x-python",
   "name": "python",
   "nbconvert_exporter": "python",
   "pygments_lexer": "ipython3",
   "version": "3.8.5"
  }
 },
 "nbformat": 4,
 "nbformat_minor": 4
}
